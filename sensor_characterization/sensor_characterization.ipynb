{
 "cells": [
  {
   "cell_type": "markdown",
   "id": "classified-parish",
   "metadata": {},
   "source": [
    "# Detector characterization\n",
    "\n",
    "- [ 1 - Introduction ](#1)\n",
    "- [ 2 - Packages](#2)\n",
    "- [ 3 - Data set](#3)\n",
    "- [ 4 - Calibration](#4)\n",
    "  - [ 4.1 Residual resistance](#4.1)\n",
    "  - [ 4.2 Bias inductance](#4.2)\n",
    "- [ 5 - Detector Characterization](#5)\n",
    "  - [ 5.1 Parameter extraction](#5.1)\n",
    "  - [ 5.2 Statistics](#5.2)"
   ]
  },
  {
   "cell_type": "markdown",
   "id": "progressive-century",
   "metadata": {},
   "source": [
    "<a name=\"1\"></a>\n",
    "# 1 - Introduction"
   ]
  },
  {
   "cell_type": "markdown",
   "id": "major-nation",
   "metadata": {},
   "source": [
    "This notebook goes through the analysis process used to characterize and QC superconducting sensors for the POLARBEAR-2 (PB-2) telescopes based on measurements performed in our laboratory at UCSD. We have successfully deployed the first two PB-2 telescopes with a full complement of over 15,000 superconducting sensors.\n",
    "\n",
    "Strict requirements were placed on the thermal and electrical properties and yield of the detectors in order to ensure that PB-2 would achieve it's science goals. The sensors are fabricated on 150 mm silicon wafers with over 1,000 sensors per wafer. In total the PB-2 telescopes required 14 wafers of detectors. In our R&D phase, we fabricated quite a few more than wer\n",
    "\n",
    "The rest of this section is meant to provide some context by describing the PB-2 experiment and it's science goals and then to give some background on the physics of the superconducting sensors used. Neither of these sections are necessary in order to understand what follows in the analysis procedure, so feel free to skip them if you're not interested. On the other hand, if you are interested, please read on! And if you have questions (particularly any students), please don't hesitate to send me an email. It would help me to clarify my writing as well. \n",
    "\n",
    "\n",
    "All that is required is an understanding of Ohm's law and superconductivity (I'll explain that where needed)\n",
    "\n",
    "Explanation of detector and IV curve. Why we're doing this and what we're trying to do. Published in JLTP"
   ]
  },
  {
   "cell_type": "markdown",
   "id": "right-aquatic",
   "metadata": {},
   "source": [
    "<a name=\"2\"></a>\n",
    "# 2 - Packages"
   ]
  },
  {
   "cell_type": "code",
   "execution_count": 1,
   "id": "compliant-basketball",
   "metadata": {},
   "outputs": [],
   "source": [
    "import numpy as np\n",
    "from matplotlib import pyplot as plt\n",
    "%matplotlib inline\n",
    "from sklearn.linear_model import LinearRegression\n",
    "\n",
    "from utils import load_pkl, convert"
   ]
  },
  {
   "cell_type": "markdown",
   "id": "collectible-cheat",
   "metadata": {},
   "source": [
    "<a name=\"3\"></a>"
   ]
  },
  {
   "cell_type": "markdown",
   "id": "initial-tumor",
   "metadata": {},
   "source": [
    "<a name=\"2\"></a>\n",
    "# 3 - Dataset"
   ]
  },
  {
   "cell_type": "code",
   "execution_count": 103,
   "id": "international-understanding",
   "metadata": {},
   "outputs": [],
   "source": [
    "db_dir = '/home/tucker/20190225_221113_drop_bolos/data/'\n",
    "fnames_db = ! ls $db_dir | grep OUTPUT\n",
    "fnames_db = sorted(fnames_db)"
   ]
  },
  {
   "cell_type": "markdown",
   "id": "demonstrated-miller",
   "metadata": {},
   "source": [
    "For each detector, we will have a set of current and voltage measurements. The number of data points varies across the set of detectors. I want to have a vectorized implmentation of the data, so I'm going to make an array with size (ndetectors, npts) where npts is the same for all detectors. Ideally, npts would be equal to the maximum number of data points and I can set nans for detectors that don't have npts. But I don't want to open every single detectors data just to find max(npts). Instead I'll just open the first ~400 detectors worth of data and take the max(npts) from that set. That might not give me the absolute maximum npts, but as we'll see later, the final points in a data set are often cut from the analysis, so this approach should be fine."
   ]
  },
  {
   "cell_type": "code",
   "execution_count": 105,
   "id": "scheduled-charm",
   "metadata": {},
   "outputs": [],
   "source": [
    "npts = np.zeros(10)\n",
    "\n",
    "for i, fname in enumerate(fnames_db[:10]):\n",
    "    \n",
    "    data_db = load_pkl(db_dir + fname)        \n",
    "    npts[i] = len(data_db['RIV_log'][1]['I'])\n",
    "    \n",
    "npts = int(np.max(npts))"
   ]
  },
  {
   "cell_type": "markdown",
   "id": "voluntary-danger",
   "metadata": {},
   "source": [
    "Each SQUID can have up to 40 detectors. I will assume that the total number of detectors is 40*len(fnames_db)"
   ]
  },
  {
   "cell_type": "code",
   "execution_count": 106,
   "id": "finnish-tennessee",
   "metadata": {},
   "outputs": [],
   "source": [
    "ndet_orig = len(fnames_db) * 40"
   ]
  },
  {
   "cell_type": "code",
   "execution_count": 8,
   "id": "pregnant-roller",
   "metadata": {},
   "outputs": [],
   "source": [
    "Vol_orig = np.zeros((ndet_orig, npts))\n",
    "Cur_orig = np.zeros((ndet_orig, npts))\n",
    "frq_orig = np.zeros(ndet_orig)\n",
    "det_id = []\n",
    "\n",
    "for j, fname in enumerate(fnames_db):\n",
    "\n",
    "    data_db = load_pkl(db_dir + fname)\n",
    "    pstring = data_db['pstring']\n",
    "    \n",
    "    for ch in data_db['RIV_log']: # note: Ch is indexed from 1\n",
    "        \n",
    "        det_id.append(pstring+f'/{ch}')\n",
    "        \n",
    "        det = j*40 + ch - 1\n",
    "        \n",
    "        v = data_db['RIV_log'][ch]['V']\n",
    "        Vol_orig[det][:len(v)] = np.array(v[:npts]) * 1e6\n",
    "        \n",
    "        i = data_db['RIV_log'][ch]['I']\n",
    "        Cur_orig[det][:len(i)] = np.array(i[:npts]) * 1e6\n",
    "        \n",
    "        frq_orig[det] = data_db['pre_drop'][ch]['freq']"
   ]
  },
  {
   "cell_type": "markdown",
   "id": "sophisticated-dispatch",
   "metadata": {},
   "source": [
    "Many of the entires in Vol_orig, Cur_orig, and frq are zeros because we don't actually have data from forty detectors in each file. We can remove those rows by filtering on frq as below:"
   ]
  },
  {
   "cell_type": "markdown",
   "id": "saved-lincoln",
   "metadata": {},
   "source": [
    "Let's look at the IV data from a single detector to get a feel for what we're working with"
   ]
  },
  {
   "cell_type": "code",
   "execution_count": 9,
   "id": "infinite-great",
   "metadata": {},
   "outputs": [
    {
     "data": {
      "text/plain": [
       "Text(0, 0.5, 'Current [$\\\\mu$A]')"
      ]
     },
     "execution_count": 9,
     "metadata": {},
     "output_type": "execute_result"
    },
    {
     "data": {
      "image/png": "[encoded data removed]",
      "text/plain": [
       "<Figure size 432x288 with 1 Axes>"
      ]
     },
     "metadata": {
      "needs_background": "light"
     },
     "output_type": "display_data"
    }
   ],
   "source": [
    "plt.plot(Vol_orig[0], Cur_orig[0], '.')\n",
    "plt.xlabel('Voltage [$\\mu$V]')\n",
    "plt.ylabel('Current [$\\mu$A]')"
   ]
  },
  {
   "cell_type": "markdown",
   "id": "protecting-modification",
   "metadata": {},
   "source": [
    "Note the data points in the upper left of the plot. These correspond to very small values of voltage such that the current measurement is not reliable. Ultimately, we'll want to fit a line to the low voltage data and those points will make this inaccurate. Let's apply a cut to data with voltage<0.1 uV. Ultimately the simplest thing to do is to just remove the first few entries for each detector\n",
    "\n",
    "During this measurement, we typically sweep a large range of voltage so that we have excess data at high and low voltage and it's fine to cut some of it\n",
    "\n",
    "While we're at it, we can also remove the rows corresponding to not having data"
   ]
  },
  {
   "cell_type": "code",
   "execution_count": 10,
   "id": "fitted-grocery",
   "metadata": {},
   "outputs": [],
   "source": [
    "keep_rows = frq_orig != 0\n",
    "keep_cols = np.repeat(True, Vol_orig.shape[1])\n",
    "keep_cols[-50:] = False\n",
    "\n",
    "ixgrid = np.ix_(keep_rows, keep_cols)\n",
    "\n",
    "Vol = Vol_orig[ixgrid]\n",
    "Cur = Cur_orig[ixgrid]\n",
    "frq = frq_orig[keep_rows]\n",
    "\n",
    "ndet = len(frq)"
   ]
  },
  {
   "cell_type": "markdown",
   "id": "happy-steering",
   "metadata": {},
   "source": [
    "Now we can take a better look at the data. There are three regions here. Going from right to left: at high voltage the detector is normal and the resistance is constant; at about 4.1 uV, the detector begins to transition and it's resistance decreases; at about 3 uV, the detector becomes unstable and abruptly becomes superconducting (we call this \"latching\" and below this point there is a constant resistance which is smaller than the normal resistance.\n",
    "\n",
    "We want to extract three numbers from this plot: The resistance in the first region, the minimum point in regions 1 and 2 (the so-called \"turnaround point\"), and the resistance in the third region."
   ]
  },
  {
   "cell_type": "code",
   "execution_count": 88,
   "id": "fifty-operations",
   "metadata": {},
   "outputs": [
    {
     "data": {
      "text/plain": [
       "\"var = np.var(Cur, axis=1)\\n\\nplt.plot(np.var(Cur, axis=1), '.')\\nplt.yscale('log')\\nplt.show()\\n\\nprint(sum(np.logical_and(var>1e0, var<1e2)))\\nprint(len(var))\""
      ]
     },
     "execution_count": 88,
     "metadata": {},
     "output_type": "execute_result"
    }
   ],
   "source": [
    "'''var = np.var(Cur, axis=1)\n",
    "\n",
    "plt.plot(np.var(Cur, axis=1), '.')\n",
    "plt.yscale('log')\n",
    "plt.show()\n",
    "\n",
    "print(sum(np.logical_and(var>1e0, var<1e2)))\n",
    "print(len(var))'''"
   ]
  },
  {
   "cell_type": "code",
   "execution_count": 43,
   "id": "backed-recorder",
   "metadata": {},
   "outputs": [
    {
     "data": {
      "text/plain": [
       "Text(0, 0.5, 'Current [$\\\\mu$A]')"
      ]
     },
     "execution_count": 43,
     "metadata": {},
     "output_type": "execute_result"
    },
    {
     "data": {
      "image/png": "[encoded data removed]",
      "text/plain": [
       "<Figure size 432x288 with 1 Axes>"
      ]
     },
     "metadata": {
      "needs_background": "light"
     },
     "output_type": "display_data"
    }
   ],
   "source": [
    "plt.plot(Vol[0], Cur[0], '.')\n",
    "plt.xlabel('Voltage [$\\mu$V]')\n",
    "plt.ylabel('Current [$\\mu$A]')"
   ]
  },
  {
   "cell_type": "markdown",
   "id": "declared-familiar",
   "metadata": {},
   "source": [
    "<a name=\"4\"></a>\n",
    "# 4 - Calibrating data for parasitic impedance"
   ]
  },
  {
   "cell_type": "markdown",
   "id": "simple-terrorism",
   "metadata": {},
   "source": [
    "<a name=\"4.1\"></a>\n",
    "## 4.1 - Residual Resistance"
   ]
  },
  {
   "cell_type": "markdown",
   "id": "planned-induction",
   "metadata": {},
   "source": [
    "Those of you who are familiar with superconductivity may have noticed something odd in the RV plot above - the resistance is nonzero even when the detector is superconducting. A superconductor has zero resistance, so the residual resistance must be a result of some other part of our circuit that is not superconducting. There are several candidates: connectors, capacitor loss, cable inductance, etc. Our goal here will be to: 1) define a model for the residual resistance, 2) measure the model parameters, and 3) calibrate our measurement to give more accurate detector parameters."
   ]
  },
  {
   "cell_type": "markdown",
   "id": "normal-baltimore",
   "metadata": {},
   "source": [
    "### Residual resistance model"
   ]
  },
  {
   "cell_type": "markdown",
   "id": "brazilian-ticket",
   "metadata": {},
   "source": [
    "We will use the model shown below. Each detector (R_TES) is in series with a unique residual resistance (R_resid). Ohm's law applied to this circuit yields:  \n",
    "\n",
    "$$V = I (R_{TES}+R_{resid})$$\n",
    "\n",
    "The voltage that we have stored in ``Vol`` is this voltage. We will be interested in determining the resistance of the detector and the electrical power dissipated in the detector and for both of those, we will need to calculate the voltage on the detector, V_TES. V_tes is related to V by the following:\n",
    "\n",
    "$V_{TES} = V \\frac{R_{TES}}{R_{TES}+R_{res}} = V (1-\\frac{R_{res}}{R_{tot}})$\n",
    "\n",
    "where $R_{tot} = R_{TES}+R_{resid}$ is the total resistance in the model"
   ]
  },
  {
   "cell_type": "markdown",
   "id": "cooperative-experiment",
   "metadata": {},
   "source": [
    "Our next task, then, is it determine the coefficient of V in that equation, which I'll call CF1. To do that, we'll need to calculate the R_resid for each detector."
   ]
  },
  {
   "cell_type": "markdown",
   "id": "fantastic-court",
   "metadata": {},
   "source": [
    "### Measuring residual resistance"
   ]
  },
  {
   "cell_type": "markdown",
   "id": "earlier-senior",
   "metadata": {},
   "source": [
    "In region 3 of the IV curve, the detector is fully superconducting and Ohm's law reduces to\n",
    "\n",
    "$V = IR_{resid}$\n",
    "\n",
    "We will use linear regression to determine R_resid given our data."
   ]
  },
  {
   "cell_type": "markdown",
   "id": "previous-speaking",
   "metadata": {},
   "source": [
    "First let's find the latching point. We can identify the latching point by find the largest derivative in the data set. Note that Vol[ch] starts high and goes down, so we are looking for a large positive derivative. Also, the spacing along the x-axis is constant, so we can just look at the difference in y-values rather than taking a derivative."
   ]
  },
  {
   "cell_type": "code",
   "execution_count": 44,
   "id": "acquired-export",
   "metadata": {},
   "outputs": [],
   "source": [
    "latch_pt = np.argmax(np.diff(Cur), axis=1)"
   ]
  },
  {
   "cell_type": "markdown",
   "id": "peaceful-sleeve",
   "metadata": {},
   "source": [
    "Below we can see that this has identified the latching point"
   ]
  },
  {
   "cell_type": "code",
   "execution_count": 54,
   "id": "simplified-frost",
   "metadata": {},
   "outputs": [
    {
     "data": {
      "text/plain": [
       "Text(0, 0.5, 'Current [$\\\\mu$A]')"
      ]
     },
     "execution_count": 54,
     "metadata": {},
     "output_type": "execute_result"
    },
    {
     "data": {
      "image/png": "[encoded data removed]",
      "text/plain": [
       "<Figure size 432x288 with 1 Axes>"
      ]
     },
     "metadata": {
      "needs_background": "light"
     },
     "output_type": "display_data"
    }
   ],
   "source": [
    "ch = 0\n",
    "plt.plot(Vol[ch], Cur[ch], '.')\n",
    "plt.plot(Vol[ch][latch_pt[ch]], Cur[ch][latch_pt[ch]], 'ro')\n",
    "plt.xlabel('Voltage [$\\mu$V]')\n",
    "plt.ylabel('Current [$\\mu$A]')"
   ]
  },
  {
   "cell_type": "code",
   "execution_count": 57,
   "id": "seven-bulgaria",
   "metadata": {},
   "outputs": [
    {
     "name": "stderr",
     "output_type": "stream",
     "text": [
      "<ipython-input-57-713905c06f70>:16: RuntimeWarning: divide by zero encountered in true_divide\n",
      "  R_res[k] = 1 / model.coef_\n",
      "<ipython-input-57-713905c06f70>:16: RuntimeWarning: divide by zero encountered in true_divide\n",
      "  R_res[k] = 1 / model.coef_\n",
      "<ipython-input-57-713905c06f70>:16: RuntimeWarning: divide by zero encountered in true_divide\n",
      "  R_res[k] = 1 / model.coef_\n",
      "<ipython-input-57-713905c06f70>:16: RuntimeWarning: divide by zero encountered in true_divide\n",
      "  R_res[k] = 1 / model.coef_\n",
      "<ipython-input-57-713905c06f70>:16: RuntimeWarning: divide by zero encountered in true_divide\n",
      "  R_res[k] = 1 / model.coef_\n",
      "<ipython-input-57-713905c06f70>:16: RuntimeWarning: divide by zero encountered in true_divide\n",
      "  R_res[k] = 1 / model.coef_\n",
      "<ipython-input-57-713905c06f70>:16: RuntimeWarning: divide by zero encountered in true_divide\n",
      "  R_res[k] = 1 / model.coef_\n",
      "<ipython-input-57-713905c06f70>:16: RuntimeWarning: divide by zero encountered in true_divide\n",
      "  R_res[k] = 1 / model.coef_\n",
      "<ipython-input-57-713905c06f70>:16: RuntimeWarning: divide by zero encountered in true_divide\n",
      "  R_res[k] = 1 / model.coef_\n",
      "<ipython-input-57-713905c06f70>:16: RuntimeWarning: divide by zero encountered in true_divide\n",
      "  R_res[k] = 1 / model.coef_\n",
      "<ipython-input-57-713905c06f70>:16: RuntimeWarning: divide by zero encountered in true_divide\n",
      "  R_res[k] = 1 / model.coef_\n",
      "<ipython-input-57-713905c06f70>:16: RuntimeWarning: divide by zero encountered in true_divide\n",
      "  R_res[k] = 1 / model.coef_\n",
      "<ipython-input-57-713905c06f70>:16: RuntimeWarning: divide by zero encountered in true_divide\n",
      "  R_res[k] = 1 / model.coef_\n",
      "<ipython-input-57-713905c06f70>:16: RuntimeWarning: divide by zero encountered in true_divide\n",
      "  R_res[k] = 1 / model.coef_\n",
      "<ipython-input-57-713905c06f70>:16: RuntimeWarning: divide by zero encountered in true_divide\n",
      "  R_res[k] = 1 / model.coef_\n",
      "<ipython-input-57-713905c06f70>:16: RuntimeWarning: divide by zero encountered in true_divide\n",
      "  R_res[k] = 1 / model.coef_\n",
      "<ipython-input-57-713905c06f70>:16: RuntimeWarning: divide by zero encountered in true_divide\n",
      "  R_res[k] = 1 / model.coef_\n",
      "<ipython-input-57-713905c06f70>:16: RuntimeWarning: divide by zero encountered in true_divide\n",
      "  R_res[k] = 1 / model.coef_\n",
      "<ipython-input-57-713905c06f70>:16: RuntimeWarning: divide by zero encountered in true_divide\n",
      "  R_res[k] = 1 / model.coef_\n",
      "<ipython-input-57-713905c06f70>:16: RuntimeWarning: divide by zero encountered in true_divide\n",
      "  R_res[k] = 1 / model.coef_\n",
      "<ipython-input-57-713905c06f70>:16: RuntimeWarning: divide by zero encountered in true_divide\n",
      "  R_res[k] = 1 / model.coef_\n",
      "<ipython-input-57-713905c06f70>:16: RuntimeWarning: divide by zero encountered in true_divide\n",
      "  R_res[k] = 1 / model.coef_\n",
      "<ipython-input-57-713905c06f70>:16: RuntimeWarning: divide by zero encountered in true_divide\n",
      "  R_res[k] = 1 / model.coef_\n",
      "<ipython-input-57-713905c06f70>:16: RuntimeWarning: divide by zero encountered in true_divide\n",
      "  R_res[k] = 1 / model.coef_\n",
      "<ipython-input-57-713905c06f70>:16: RuntimeWarning: divide by zero encountered in true_divide\n",
      "  R_res[k] = 1 / model.coef_\n",
      "<ipython-input-57-713905c06f70>:16: RuntimeWarning: divide by zero encountered in true_divide\n",
      "  R_res[k] = 1 / model.coef_\n",
      "<ipython-input-57-713905c06f70>:16: RuntimeWarning: divide by zero encountered in true_divide\n",
      "  R_res[k] = 1 / model.coef_\n",
      "<ipython-input-57-713905c06f70>:16: RuntimeWarning: divide by zero encountered in true_divide\n",
      "  R_res[k] = 1 / model.coef_\n",
      "<ipython-input-57-713905c06f70>:16: RuntimeWarning: divide by zero encountered in true_divide\n",
      "  R_res[k] = 1 / model.coef_\n",
      "<ipython-input-57-713905c06f70>:16: RuntimeWarning: divide by zero encountered in true_divide\n",
      "  R_res[k] = 1 / model.coef_\n",
      "<ipython-input-57-713905c06f70>:16: RuntimeWarning: divide by zero encountered in true_divide\n",
      "  R_res[k] = 1 / model.coef_\n",
      "<ipython-input-57-713905c06f70>:16: RuntimeWarning: divide by zero encountered in true_divide\n",
      "  R_res[k] = 1 / model.coef_\n",
      "<ipython-input-57-713905c06f70>:16: RuntimeWarning: divide by zero encountered in true_divide\n",
      "  R_res[k] = 1 / model.coef_\n",
      "<ipython-input-57-713905c06f70>:16: RuntimeWarning: divide by zero encountered in true_divide\n",
      "  R_res[k] = 1 / model.coef_\n",
      "<ipython-input-57-713905c06f70>:16: RuntimeWarning: divide by zero encountered in true_divide\n",
      "  R_res[k] = 1 / model.coef_\n",
      "<ipython-input-57-713905c06f70>:16: RuntimeWarning: divide by zero encountered in true_divide\n",
      "  R_res[k] = 1 / model.coef_\n",
      "<ipython-input-57-713905c06f70>:16: RuntimeWarning: divide by zero encountered in true_divide\n",
      "  R_res[k] = 1 / model.coef_\n",
      "<ipython-input-57-713905c06f70>:16: RuntimeWarning: divide by zero encountered in true_divide\n",
      "  R_res[k] = 1 / model.coef_\n",
      "<ipython-input-57-713905c06f70>:16: RuntimeWarning: divide by zero encountered in true_divide\n",
      "  R_res[k] = 1 / model.coef_\n",
      "<ipython-input-57-713905c06f70>:16: RuntimeWarning: divide by zero encountered in true_divide\n",
      "  R_res[k] = 1 / model.coef_\n",
      "<ipython-input-57-713905c06f70>:16: RuntimeWarning: divide by zero encountered in true_divide\n",
      "  R_res[k] = 1 / model.coef_\n",
      "<ipython-input-57-713905c06f70>:16: RuntimeWarning: divide by zero encountered in true_divide\n",
      "  R_res[k] = 1 / model.coef_\n",
      "<ipython-input-57-713905c06f70>:16: RuntimeWarning: divide by zero encountered in true_divide\n",
      "  R_res[k] = 1 / model.coef_\n",
      "<ipython-input-57-713905c06f70>:16: RuntimeWarning: divide by zero encountered in true_divide\n",
      "  R_res[k] = 1 / model.coef_\n",
      "<ipython-input-57-713905c06f70>:16: RuntimeWarning: divide by zero encountered in true_divide\n",
      "  R_res[k] = 1 / model.coef_\n",
      "<ipython-input-57-713905c06f70>:16: RuntimeWarning: divide by zero encountered in true_divide\n",
      "  R_res[k] = 1 / model.coef_\n",
      "<ipython-input-57-713905c06f70>:16: RuntimeWarning: divide by zero encountered in true_divide\n",
      "  R_res[k] = 1 / model.coef_\n",
      "<ipython-input-57-713905c06f70>:16: RuntimeWarning: divide by zero encountered in true_divide\n",
      "  R_res[k] = 1 / model.coef_\n",
      "<ipython-input-57-713905c06f70>:16: RuntimeWarning: divide by zero encountered in true_divide\n",
      "  R_res[k] = 1 / model.coef_\n",
      "<ipython-input-57-713905c06f70>:16: RuntimeWarning: divide by zero encountered in true_divide\n",
      "  R_res[k] = 1 / model.coef_\n",
      "<ipython-input-57-713905c06f70>:16: RuntimeWarning: divide by zero encountered in true_divide\n",
      "  R_res[k] = 1 / model.coef_\n",
      "<ipython-input-57-713905c06f70>:16: RuntimeWarning: divide by zero encountered in true_divide\n",
      "  R_res[k] = 1 / model.coef_\n",
      "<ipython-input-57-713905c06f70>:16: RuntimeWarning: divide by zero encountered in true_divide\n",
      "  R_res[k] = 1 / model.coef_\n",
      "<ipython-input-57-713905c06f70>:16: RuntimeWarning: divide by zero encountered in true_divide\n",
      "  R_res[k] = 1 / model.coef_\n",
      "<ipython-input-57-713905c06f70>:16: RuntimeWarning: divide by zero encountered in true_divide\n",
      "  R_res[k] = 1 / model.coef_\n",
      "<ipython-input-57-713905c06f70>:16: RuntimeWarning: divide by zero encountered in true_divide\n",
      "  R_res[k] = 1 / model.coef_\n",
      "<ipython-input-57-713905c06f70>:16: RuntimeWarning: divide by zero encountered in true_divide\n",
      "  R_res[k] = 1 / model.coef_\n",
      "<ipython-input-57-713905c06f70>:16: RuntimeWarning: divide by zero encountered in true_divide\n",
      "  R_res[k] = 1 / model.coef_\n",
      "<ipython-input-57-713905c06f70>:16: RuntimeWarning: divide by zero encountered in true_divide\n",
      "  R_res[k] = 1 / model.coef_\n",
      "<ipython-input-57-713905c06f70>:16: RuntimeWarning: divide by zero encountered in true_divide\n",
      "  R_res[k] = 1 / model.coef_\n",
      "<ipython-input-57-713905c06f70>:16: RuntimeWarning: divide by zero encountered in true_divide\n",
      "  R_res[k] = 1 / model.coef_\n",
      "<ipython-input-57-713905c06f70>:16: RuntimeWarning: divide by zero encountered in true_divide\n",
      "  R_res[k] = 1 / model.coef_\n",
      "<ipython-input-57-713905c06f70>:16: RuntimeWarning: divide by zero encountered in true_divide\n",
      "  R_res[k] = 1 / model.coef_\n",
      "<ipython-input-57-713905c06f70>:16: RuntimeWarning: divide by zero encountered in true_divide\n",
      "  R_res[k] = 1 / model.coef_\n",
      "<ipython-input-57-713905c06f70>:16: RuntimeWarning: divide by zero encountered in true_divide\n",
      "  R_res[k] = 1 / model.coef_\n",
      "<ipython-input-57-713905c06f70>:16: RuntimeWarning: divide by zero encountered in true_divide\n",
      "  R_res[k] = 1 / model.coef_\n",
      "<ipython-input-57-713905c06f70>:16: RuntimeWarning: divide by zero encountered in true_divide\n",
      "  R_res[k] = 1 / model.coef_\n",
      "<ipython-input-57-713905c06f70>:16: RuntimeWarning: divide by zero encountered in true_divide\n",
      "  R_res[k] = 1 / model.coef_\n",
      "<ipython-input-57-713905c06f70>:16: RuntimeWarning: divide by zero encountered in true_divide\n",
      "  R_res[k] = 1 / model.coef_\n",
      "<ipython-input-57-713905c06f70>:16: RuntimeWarning: divide by zero encountered in true_divide\n",
      "  R_res[k] = 1 / model.coef_\n",
      "<ipython-input-57-713905c06f70>:16: RuntimeWarning: divide by zero encountered in true_divide\n",
      "  R_res[k] = 1 / model.coef_\n",
      "<ipython-input-57-713905c06f70>:16: RuntimeWarning: divide by zero encountered in true_divide\n",
      "  R_res[k] = 1 / model.coef_\n",
      "<ipython-input-57-713905c06f70>:16: RuntimeWarning: divide by zero encountered in true_divide\n",
      "  R_res[k] = 1 / model.coef_\n",
      "<ipython-input-57-713905c06f70>:16: RuntimeWarning: divide by zero encountered in true_divide\n",
      "  R_res[k] = 1 / model.coef_\n",
      "<ipython-input-57-713905c06f70>:16: RuntimeWarning: divide by zero encountered in true_divide\n",
      "  R_res[k] = 1 / model.coef_\n",
      "<ipython-input-57-713905c06f70>:16: RuntimeWarning: divide by zero encountered in true_divide\n",
      "  R_res[k] = 1 / model.coef_\n",
      "<ipython-input-57-713905c06f70>:16: RuntimeWarning: divide by zero encountered in true_divide\n",
      "  R_res[k] = 1 / model.coef_\n",
      "<ipython-input-57-713905c06f70>:16: RuntimeWarning: divide by zero encountered in true_divide\n",
      "  R_res[k] = 1 / model.coef_\n",
      "<ipython-input-57-713905c06f70>:16: RuntimeWarning: divide by zero encountered in true_divide\n",
      "  R_res[k] = 1 / model.coef_\n",
      "<ipython-input-57-713905c06f70>:16: RuntimeWarning: divide by zero encountered in true_divide\n",
      "  R_res[k] = 1 / model.coef_\n",
      "<ipython-input-57-713905c06f70>:16: RuntimeWarning: divide by zero encountered in true_divide\n",
      "  R_res[k] = 1 / model.coef_\n",
      "<ipython-input-57-713905c06f70>:16: RuntimeWarning: divide by zero encountered in true_divide\n",
      "  R_res[k] = 1 / model.coef_\n",
      "<ipython-input-57-713905c06f70>:16: RuntimeWarning: divide by zero encountered in true_divide\n",
      "  R_res[k] = 1 / model.coef_\n",
      "<ipython-input-57-713905c06f70>:16: RuntimeWarning: divide by zero encountered in true_divide\n",
      "  R_res[k] = 1 / model.coef_\n",
      "<ipython-input-57-713905c06f70>:16: RuntimeWarning: divide by zero encountered in true_divide\n",
      "  R_res[k] = 1 / model.coef_\n",
      "<ipython-input-57-713905c06f70>:16: RuntimeWarning: divide by zero encountered in true_divide\n",
      "  R_res[k] = 1 / model.coef_\n",
      "<ipython-input-57-713905c06f70>:16: RuntimeWarning: divide by zero encountered in true_divide\n",
      "  R_res[k] = 1 / model.coef_\n",
      "<ipython-input-57-713905c06f70>:16: RuntimeWarning: divide by zero encountered in true_divide\n",
      "  R_res[k] = 1 / model.coef_\n",
      "<ipython-input-57-713905c06f70>:16: RuntimeWarning: divide by zero encountered in true_divide\n",
      "  R_res[k] = 1 / model.coef_\n",
      "<ipython-input-57-713905c06f70>:16: RuntimeWarning: divide by zero encountered in true_divide\n",
      "  R_res[k] = 1 / model.coef_\n",
      "<ipython-input-57-713905c06f70>:16: RuntimeWarning: divide by zero encountered in true_divide\n",
      "  R_res[k] = 1 / model.coef_\n",
      "<ipython-input-57-713905c06f70>:16: RuntimeWarning: divide by zero encountered in true_divide\n",
      "  R_res[k] = 1 / model.coef_\n",
      "<ipython-input-57-713905c06f70>:16: RuntimeWarning: divide by zero encountered in true_divide\n",
      "  R_res[k] = 1 / model.coef_\n",
      "<ipython-input-57-713905c06f70>:16: RuntimeWarning: divide by zero encountered in true_divide\n",
      "  R_res[k] = 1 / model.coef_\n",
      "<ipython-input-57-713905c06f70>:16: RuntimeWarning: divide by zero encountered in true_divide\n",
      "  R_res[k] = 1 / model.coef_\n",
      "<ipython-input-57-713905c06f70>:16: RuntimeWarning: divide by zero encountered in true_divide\n",
      "  R_res[k] = 1 / model.coef_\n",
      "<ipython-input-57-713905c06f70>:16: RuntimeWarning: divide by zero encountered in true_divide\n",
      "  R_res[k] = 1 / model.coef_\n",
      "<ipython-input-57-713905c06f70>:16: RuntimeWarning: divide by zero encountered in true_divide\n",
      "  R_res[k] = 1 / model.coef_\n",
      "<ipython-input-57-713905c06f70>:16: RuntimeWarning: divide by zero encountered in true_divide\n",
      "  R_res[k] = 1 / model.coef_\n",
      "<ipython-input-57-713905c06f70>:16: RuntimeWarning: divide by zero encountered in true_divide\n",
      "  R_res[k] = 1 / model.coef_\n",
      "<ipython-input-57-713905c06f70>:16: RuntimeWarning: divide by zero encountered in true_divide\n",
      "  R_res[k] = 1 / model.coef_\n",
      "<ipython-input-57-713905c06f70>:16: RuntimeWarning: divide by zero encountered in true_divide\n",
      "  R_res[k] = 1 / model.coef_\n",
      "<ipython-input-57-713905c06f70>:16: RuntimeWarning: divide by zero encountered in true_divide\n",
      "  R_res[k] = 1 / model.coef_\n",
      "<ipython-input-57-713905c06f70>:16: RuntimeWarning: divide by zero encountered in true_divide\n",
      "  R_res[k] = 1 / model.coef_\n",
      "<ipython-input-57-713905c06f70>:16: RuntimeWarning: divide by zero encountered in true_divide\n",
      "  R_res[k] = 1 / model.coef_\n",
      "<ipython-input-57-713905c06f70>:16: RuntimeWarning: divide by zero encountered in true_divide\n",
      "  R_res[k] = 1 / model.coef_\n",
      "<ipython-input-57-713905c06f70>:16: RuntimeWarning: divide by zero encountered in true_divide\n",
      "  R_res[k] = 1 / model.coef_\n",
      "<ipython-input-57-713905c06f70>:16: RuntimeWarning: divide by zero encountered in true_divide\n",
      "  R_res[k] = 1 / model.coef_\n",
      "<ipython-input-57-713905c06f70>:16: RuntimeWarning: divide by zero encountered in true_divide\n",
      "  R_res[k] = 1 / model.coef_\n",
      "<ipython-input-57-713905c06f70>:16: RuntimeWarning: divide by zero encountered in true_divide\n",
      "  R_res[k] = 1 / model.coef_\n",
      "<ipython-input-57-713905c06f70>:16: RuntimeWarning: divide by zero encountered in true_divide\n",
      "  R_res[k] = 1 / model.coef_\n",
      "<ipython-input-57-713905c06f70>:16: RuntimeWarning: divide by zero encountered in true_divide\n",
      "  R_res[k] = 1 / model.coef_\n",
      "<ipython-input-57-713905c06f70>:16: RuntimeWarning: divide by zero encountered in true_divide\n",
      "  R_res[k] = 1 / model.coef_\n",
      "<ipython-input-57-713905c06f70>:16: RuntimeWarning: divide by zero encountered in true_divide\n",
      "  R_res[k] = 1 / model.coef_\n",
      "<ipython-input-57-713905c06f70>:16: RuntimeWarning: divide by zero encountered in true_divide\n",
      "  R_res[k] = 1 / model.coef_\n",
      "<ipython-input-57-713905c06f70>:16: RuntimeWarning: divide by zero encountered in true_divide\n",
      "  R_res[k] = 1 / model.coef_\n",
      "<ipython-input-57-713905c06f70>:16: RuntimeWarning: divide by zero encountered in true_divide\n",
      "  R_res[k] = 1 / model.coef_\n",
      "<ipython-input-57-713905c06f70>:16: RuntimeWarning: divide by zero encountered in true_divide\n",
      "  R_res[k] = 1 / model.coef_\n",
      "<ipython-input-57-713905c06f70>:16: RuntimeWarning: divide by zero encountered in true_divide\n",
      "  R_res[k] = 1 / model.coef_\n",
      "<ipython-input-57-713905c06f70>:16: RuntimeWarning: divide by zero encountered in true_divide\n",
      "  R_res[k] = 1 / model.coef_\n",
      "<ipython-input-57-713905c06f70>:16: RuntimeWarning: divide by zero encountered in true_divide\n",
      "  R_res[k] = 1 / model.coef_\n",
      "<ipython-input-57-713905c06f70>:16: RuntimeWarning: divide by zero encountered in true_divide\n",
      "  R_res[k] = 1 / model.coef_\n",
      "<ipython-input-57-713905c06f70>:16: RuntimeWarning: divide by zero encountered in true_divide\n",
      "  R_res[k] = 1 / model.coef_\n",
      "<ipython-input-57-713905c06f70>:16: RuntimeWarning: divide by zero encountered in true_divide\n",
      "  R_res[k] = 1 / model.coef_\n",
      "<ipython-input-57-713905c06f70>:16: RuntimeWarning: divide by zero encountered in true_divide\n",
      "  R_res[k] = 1 / model.coef_\n",
      "<ipython-input-57-713905c06f70>:16: RuntimeWarning: divide by zero encountered in true_divide\n",
      "  R_res[k] = 1 / model.coef_\n",
      "<ipython-input-57-713905c06f70>:16: RuntimeWarning: divide by zero encountered in true_divide\n",
      "  R_res[k] = 1 / model.coef_\n",
      "<ipython-input-57-713905c06f70>:16: RuntimeWarning: divide by zero encountered in true_divide\n",
      "  R_res[k] = 1 / model.coef_\n",
      "<ipython-input-57-713905c06f70>:16: RuntimeWarning: divide by zero encountered in true_divide\n",
      "  R_res[k] = 1 / model.coef_\n",
      "<ipython-input-57-713905c06f70>:16: RuntimeWarning: divide by zero encountered in true_divide\n",
      "  R_res[k] = 1 / model.coef_\n",
      "<ipython-input-57-713905c06f70>:16: RuntimeWarning: divide by zero encountered in true_divide\n",
      "  R_res[k] = 1 / model.coef_\n",
      "<ipython-input-57-713905c06f70>:16: RuntimeWarning: divide by zero encountered in true_divide\n",
      "  R_res[k] = 1 / model.coef_\n",
      "<ipython-input-57-713905c06f70>:16: RuntimeWarning: divide by zero encountered in true_divide\n",
      "  R_res[k] = 1 / model.coef_\n",
      "<ipython-input-57-713905c06f70>:16: RuntimeWarning: divide by zero encountered in true_divide\n",
      "  R_res[k] = 1 / model.coef_\n",
      "<ipython-input-57-713905c06f70>:16: RuntimeWarning: divide by zero encountered in true_divide\n",
      "  R_res[k] = 1 / model.coef_\n",
      "<ipython-input-57-713905c06f70>:16: RuntimeWarning: divide by zero encountered in true_divide\n",
      "  R_res[k] = 1 / model.coef_\n"
     ]
    },
    {
     "name": "stderr",
     "output_type": "stream",
     "text": [
      "<ipython-input-57-713905c06f70>:16: RuntimeWarning: divide by zero encountered in true_divide\n",
      "  R_res[k] = 1 / model.coef_\n",
      "<ipython-input-57-713905c06f70>:16: RuntimeWarning: divide by zero encountered in true_divide\n",
      "  R_res[k] = 1 / model.coef_\n",
      "<ipython-input-57-713905c06f70>:16: RuntimeWarning: divide by zero encountered in true_divide\n",
      "  R_res[k] = 1 / model.coef_\n",
      "<ipython-input-57-713905c06f70>:16: RuntimeWarning: divide by zero encountered in true_divide\n",
      "  R_res[k] = 1 / model.coef_\n",
      "<ipython-input-57-713905c06f70>:16: RuntimeWarning: divide by zero encountered in true_divide\n",
      "  R_res[k] = 1 / model.coef_\n",
      "<ipython-input-57-713905c06f70>:16: RuntimeWarning: divide by zero encountered in true_divide\n",
      "  R_res[k] = 1 / model.coef_\n",
      "<ipython-input-57-713905c06f70>:16: RuntimeWarning: divide by zero encountered in true_divide\n",
      "  R_res[k] = 1 / model.coef_\n",
      "<ipython-input-57-713905c06f70>:16: RuntimeWarning: divide by zero encountered in true_divide\n",
      "  R_res[k] = 1 / model.coef_\n",
      "<ipython-input-57-713905c06f70>:16: RuntimeWarning: divide by zero encountered in true_divide\n",
      "  R_res[k] = 1 / model.coef_\n",
      "<ipython-input-57-713905c06f70>:16: RuntimeWarning: divide by zero encountered in true_divide\n",
      "  R_res[k] = 1 / model.coef_\n",
      "<ipython-input-57-713905c06f70>:16: RuntimeWarning: divide by zero encountered in true_divide\n",
      "  R_res[k] = 1 / model.coef_\n",
      "<ipython-input-57-713905c06f70>:16: RuntimeWarning: divide by zero encountered in true_divide\n",
      "  R_res[k] = 1 / model.coef_\n",
      "<ipython-input-57-713905c06f70>:16: RuntimeWarning: divide by zero encountered in true_divide\n",
      "  R_res[k] = 1 / model.coef_\n",
      "<ipython-input-57-713905c06f70>:16: RuntimeWarning: divide by zero encountered in true_divide\n",
      "  R_res[k] = 1 / model.coef_\n",
      "<ipython-input-57-713905c06f70>:16: RuntimeWarning: divide by zero encountered in true_divide\n",
      "  R_res[k] = 1 / model.coef_\n",
      "<ipython-input-57-713905c06f70>:16: RuntimeWarning: divide by zero encountered in true_divide\n",
      "  R_res[k] = 1 / model.coef_\n",
      "<ipython-input-57-713905c06f70>:16: RuntimeWarning: divide by zero encountered in true_divide\n",
      "  R_res[k] = 1 / model.coef_\n",
      "<ipython-input-57-713905c06f70>:16: RuntimeWarning: divide by zero encountered in true_divide\n",
      "  R_res[k] = 1 / model.coef_\n",
      "<ipython-input-57-713905c06f70>:16: RuntimeWarning: divide by zero encountered in true_divide\n",
      "  R_res[k] = 1 / model.coef_\n",
      "<ipython-input-57-713905c06f70>:16: RuntimeWarning: divide by zero encountered in true_divide\n",
      "  R_res[k] = 1 / model.coef_\n",
      "<ipython-input-57-713905c06f70>:16: RuntimeWarning: divide by zero encountered in true_divide\n",
      "  R_res[k] = 1 / model.coef_\n",
      "<ipython-input-57-713905c06f70>:16: RuntimeWarning: divide by zero encountered in true_divide\n",
      "  R_res[k] = 1 / model.coef_\n",
      "<ipython-input-57-713905c06f70>:16: RuntimeWarning: divide by zero encountered in true_divide\n",
      "  R_res[k] = 1 / model.coef_\n",
      "<ipython-input-57-713905c06f70>:16: RuntimeWarning: divide by zero encountered in true_divide\n",
      "  R_res[k] = 1 / model.coef_\n",
      "<ipython-input-57-713905c06f70>:16: RuntimeWarning: divide by zero encountered in true_divide\n",
      "  R_res[k] = 1 / model.coef_\n",
      "<ipython-input-57-713905c06f70>:16: RuntimeWarning: divide by zero encountered in true_divide\n",
      "  R_res[k] = 1 / model.coef_\n",
      "<ipython-input-57-713905c06f70>:16: RuntimeWarning: divide by zero encountered in true_divide\n",
      "  R_res[k] = 1 / model.coef_\n",
      "<ipython-input-57-713905c06f70>:16: RuntimeWarning: divide by zero encountered in true_divide\n",
      "  R_res[k] = 1 / model.coef_\n",
      "<ipython-input-57-713905c06f70>:16: RuntimeWarning: divide by zero encountered in true_divide\n",
      "  R_res[k] = 1 / model.coef_\n",
      "<ipython-input-57-713905c06f70>:16: RuntimeWarning: divide by zero encountered in true_divide\n",
      "  R_res[k] = 1 / model.coef_\n",
      "<ipython-input-57-713905c06f70>:16: RuntimeWarning: divide by zero encountered in true_divide\n",
      "  R_res[k] = 1 / model.coef_\n",
      "<ipython-input-57-713905c06f70>:16: RuntimeWarning: divide by zero encountered in true_divide\n",
      "  R_res[k] = 1 / model.coef_\n",
      "<ipython-input-57-713905c06f70>:16: RuntimeWarning: divide by zero encountered in true_divide\n",
      "  R_res[k] = 1 / model.coef_\n",
      "<ipython-input-57-713905c06f70>:16: RuntimeWarning: divide by zero encountered in true_divide\n",
      "  R_res[k] = 1 / model.coef_\n",
      "<ipython-input-57-713905c06f70>:16: RuntimeWarning: divide by zero encountered in true_divide\n",
      "  R_res[k] = 1 / model.coef_\n",
      "<ipython-input-57-713905c06f70>:16: RuntimeWarning: divide by zero encountered in true_divide\n",
      "  R_res[k] = 1 / model.coef_\n",
      "<ipython-input-57-713905c06f70>:16: RuntimeWarning: divide by zero encountered in true_divide\n",
      "  R_res[k] = 1 / model.coef_\n",
      "<ipython-input-57-713905c06f70>:16: RuntimeWarning: divide by zero encountered in true_divide\n",
      "  R_res[k] = 1 / model.coef_\n",
      "<ipython-input-57-713905c06f70>:16: RuntimeWarning: divide by zero encountered in true_divide\n",
      "  R_res[k] = 1 / model.coef_\n",
      "<ipython-input-57-713905c06f70>:16: RuntimeWarning: divide by zero encountered in true_divide\n",
      "  R_res[k] = 1 / model.coef_\n",
      "<ipython-input-57-713905c06f70>:16: RuntimeWarning: divide by zero encountered in true_divide\n",
      "  R_res[k] = 1 / model.coef_\n",
      "<ipython-input-57-713905c06f70>:16: RuntimeWarning: divide by zero encountered in true_divide\n",
      "  R_res[k] = 1 / model.coef_\n",
      "<ipython-input-57-713905c06f70>:16: RuntimeWarning: divide by zero encountered in true_divide\n",
      "  R_res[k] = 1 / model.coef_\n",
      "<ipython-input-57-713905c06f70>:16: RuntimeWarning: divide by zero encountered in true_divide\n",
      "  R_res[k] = 1 / model.coef_\n",
      "<ipython-input-57-713905c06f70>:16: RuntimeWarning: divide by zero encountered in true_divide\n",
      "  R_res[k] = 1 / model.coef_\n",
      "<ipython-input-57-713905c06f70>:16: RuntimeWarning: divide by zero encountered in true_divide\n",
      "  R_res[k] = 1 / model.coef_\n",
      "<ipython-input-57-713905c06f70>:16: RuntimeWarning: divide by zero encountered in true_divide\n",
      "  R_res[k] = 1 / model.coef_\n",
      "<ipython-input-57-713905c06f70>:16: RuntimeWarning: divide by zero encountered in true_divide\n",
      "  R_res[k] = 1 / model.coef_\n",
      "<ipython-input-57-713905c06f70>:16: RuntimeWarning: divide by zero encountered in true_divide\n",
      "  R_res[k] = 1 / model.coef_\n",
      "<ipython-input-57-713905c06f70>:16: RuntimeWarning: divide by zero encountered in true_divide\n",
      "  R_res[k] = 1 / model.coef_\n",
      "<ipython-input-57-713905c06f70>:16: RuntimeWarning: divide by zero encountered in true_divide\n",
      "  R_res[k] = 1 / model.coef_\n",
      "<ipython-input-57-713905c06f70>:16: RuntimeWarning: divide by zero encountered in true_divide\n",
      "  R_res[k] = 1 / model.coef_\n",
      "<ipython-input-57-713905c06f70>:16: RuntimeWarning: divide by zero encountered in true_divide\n",
      "  R_res[k] = 1 / model.coef_\n",
      "<ipython-input-57-713905c06f70>:16: RuntimeWarning: divide by zero encountered in true_divide\n",
      "  R_res[k] = 1 / model.coef_\n",
      "<ipython-input-57-713905c06f70>:16: RuntimeWarning: divide by zero encountered in true_divide\n",
      "  R_res[k] = 1 / model.coef_\n",
      "<ipython-input-57-713905c06f70>:16: RuntimeWarning: divide by zero encountered in true_divide\n",
      "  R_res[k] = 1 / model.coef_\n",
      "<ipython-input-57-713905c06f70>:16: RuntimeWarning: divide by zero encountered in true_divide\n",
      "  R_res[k] = 1 / model.coef_\n",
      "<ipython-input-57-713905c06f70>:16: RuntimeWarning: divide by zero encountered in true_divide\n",
      "  R_res[k] = 1 / model.coef_\n",
      "<ipython-input-57-713905c06f70>:16: RuntimeWarning: divide by zero encountered in true_divide\n",
      "  R_res[k] = 1 / model.coef_\n",
      "<ipython-input-57-713905c06f70>:16: RuntimeWarning: divide by zero encountered in true_divide\n",
      "  R_res[k] = 1 / model.coef_\n",
      "<ipython-input-57-713905c06f70>:16: RuntimeWarning: divide by zero encountered in true_divide\n",
      "  R_res[k] = 1 / model.coef_\n",
      "<ipython-input-57-713905c06f70>:16: RuntimeWarning: divide by zero encountered in true_divide\n",
      "  R_res[k] = 1 / model.coef_\n",
      "<ipython-input-57-713905c06f70>:16: RuntimeWarning: divide by zero encountered in true_divide\n",
      "  R_res[k] = 1 / model.coef_\n",
      "<ipython-input-57-713905c06f70>:16: RuntimeWarning: divide by zero encountered in true_divide\n",
      "  R_res[k] = 1 / model.coef_\n",
      "<ipython-input-57-713905c06f70>:16: RuntimeWarning: divide by zero encountered in true_divide\n",
      "  R_res[k] = 1 / model.coef_\n",
      "<ipython-input-57-713905c06f70>:16: RuntimeWarning: divide by zero encountered in true_divide\n",
      "  R_res[k] = 1 / model.coef_\n",
      "<ipython-input-57-713905c06f70>:16: RuntimeWarning: divide by zero encountered in true_divide\n",
      "  R_res[k] = 1 / model.coef_\n",
      "<ipython-input-57-713905c06f70>:16: RuntimeWarning: divide by zero encountered in true_divide\n",
      "  R_res[k] = 1 / model.coef_\n",
      "<ipython-input-57-713905c06f70>:16: RuntimeWarning: divide by zero encountered in true_divide\n",
      "  R_res[k] = 1 / model.coef_\n",
      "<ipython-input-57-713905c06f70>:16: RuntimeWarning: divide by zero encountered in true_divide\n",
      "  R_res[k] = 1 / model.coef_\n",
      "<ipython-input-57-713905c06f70>:16: RuntimeWarning: divide by zero encountered in true_divide\n",
      "  R_res[k] = 1 / model.coef_\n",
      "<ipython-input-57-713905c06f70>:16: RuntimeWarning: divide by zero encountered in true_divide\n",
      "  R_res[k] = 1 / model.coef_\n",
      "<ipython-input-57-713905c06f70>:16: RuntimeWarning: divide by zero encountered in true_divide\n",
      "  R_res[k] = 1 / model.coef_\n",
      "<ipython-input-57-713905c06f70>:16: RuntimeWarning: divide by zero encountered in true_divide\n",
      "  R_res[k] = 1 / model.coef_\n",
      "<ipython-input-57-713905c06f70>:16: RuntimeWarning: divide by zero encountered in true_divide\n",
      "  R_res[k] = 1 / model.coef_\n",
      "<ipython-input-57-713905c06f70>:16: RuntimeWarning: divide by zero encountered in true_divide\n",
      "  R_res[k] = 1 / model.coef_\n",
      "<ipython-input-57-713905c06f70>:16: RuntimeWarning: divide by zero encountered in true_divide\n",
      "  R_res[k] = 1 / model.coef_\n",
      "<ipython-input-57-713905c06f70>:16: RuntimeWarning: divide by zero encountered in true_divide\n",
      "  R_res[k] = 1 / model.coef_\n",
      "<ipython-input-57-713905c06f70>:16: RuntimeWarning: divide by zero encountered in true_divide\n",
      "  R_res[k] = 1 / model.coef_\n",
      "<ipython-input-57-713905c06f70>:16: RuntimeWarning: divide by zero encountered in true_divide\n",
      "  R_res[k] = 1 / model.coef_\n",
      "<ipython-input-57-713905c06f70>:16: RuntimeWarning: divide by zero encountered in true_divide\n",
      "  R_res[k] = 1 / model.coef_\n",
      "<ipython-input-57-713905c06f70>:16: RuntimeWarning: divide by zero encountered in true_divide\n",
      "  R_res[k] = 1 / model.coef_\n",
      "<ipython-input-57-713905c06f70>:16: RuntimeWarning: divide by zero encountered in true_divide\n",
      "  R_res[k] = 1 / model.coef_\n",
      "<ipython-input-57-713905c06f70>:16: RuntimeWarning: divide by zero encountered in true_divide\n",
      "  R_res[k] = 1 / model.coef_\n",
      "<ipython-input-57-713905c06f70>:16: RuntimeWarning: divide by zero encountered in true_divide\n",
      "  R_res[k] = 1 / model.coef_\n",
      "<ipython-input-57-713905c06f70>:16: RuntimeWarning: divide by zero encountered in true_divide\n",
      "  R_res[k] = 1 / model.coef_\n",
      "<ipython-input-57-713905c06f70>:16: RuntimeWarning: divide by zero encountered in true_divide\n",
      "  R_res[k] = 1 / model.coef_\n",
      "<ipython-input-57-713905c06f70>:16: RuntimeWarning: divide by zero encountered in true_divide\n",
      "  R_res[k] = 1 / model.coef_\n",
      "<ipython-input-57-713905c06f70>:16: RuntimeWarning: divide by zero encountered in true_divide\n",
      "  R_res[k] = 1 / model.coef_\n",
      "<ipython-input-57-713905c06f70>:16: RuntimeWarning: divide by zero encountered in true_divide\n",
      "  R_res[k] = 1 / model.coef_\n",
      "<ipython-input-57-713905c06f70>:16: RuntimeWarning: divide by zero encountered in true_divide\n",
      "  R_res[k] = 1 / model.coef_\n",
      "<ipython-input-57-713905c06f70>:16: RuntimeWarning: divide by zero encountered in true_divide\n",
      "  R_res[k] = 1 / model.coef_\n",
      "<ipython-input-57-713905c06f70>:16: RuntimeWarning: divide by zero encountered in true_divide\n",
      "  R_res[k] = 1 / model.coef_\n",
      "<ipython-input-57-713905c06f70>:16: RuntimeWarning: divide by zero encountered in true_divide\n",
      "  R_res[k] = 1 / model.coef_\n",
      "<ipython-input-57-713905c06f70>:16: RuntimeWarning: divide by zero encountered in true_divide\n",
      "  R_res[k] = 1 / model.coef_\n",
      "<ipython-input-57-713905c06f70>:16: RuntimeWarning: divide by zero encountered in true_divide\n",
      "  R_res[k] = 1 / model.coef_\n",
      "<ipython-input-57-713905c06f70>:16: RuntimeWarning: divide by zero encountered in true_divide\n",
      "  R_res[k] = 1 / model.coef_\n",
      "<ipython-input-57-713905c06f70>:16: RuntimeWarning: divide by zero encountered in true_divide\n",
      "  R_res[k] = 1 / model.coef_\n",
      "<ipython-input-57-713905c06f70>:16: RuntimeWarning: divide by zero encountered in true_divide\n",
      "  R_res[k] = 1 / model.coef_\n",
      "<ipython-input-57-713905c06f70>:16: RuntimeWarning: divide by zero encountered in true_divide\n",
      "  R_res[k] = 1 / model.coef_\n",
      "<ipython-input-57-713905c06f70>:16: RuntimeWarning: divide by zero encountered in true_divide\n",
      "  R_res[k] = 1 / model.coef_\n",
      "<ipython-input-57-713905c06f70>:16: RuntimeWarning: divide by zero encountered in true_divide\n",
      "  R_res[k] = 1 / model.coef_\n",
      "<ipython-input-57-713905c06f70>:16: RuntimeWarning: divide by zero encountered in true_divide\n",
      "  R_res[k] = 1 / model.coef_\n",
      "<ipython-input-57-713905c06f70>:16: RuntimeWarning: divide by zero encountered in true_divide\n",
      "  R_res[k] = 1 / model.coef_\n",
      "<ipython-input-57-713905c06f70>:16: RuntimeWarning: divide by zero encountered in true_divide\n",
      "  R_res[k] = 1 / model.coef_\n",
      "<ipython-input-57-713905c06f70>:16: RuntimeWarning: divide by zero encountered in true_divide\n",
      "  R_res[k] = 1 / model.coef_\n",
      "<ipython-input-57-713905c06f70>:16: RuntimeWarning: divide by zero encountered in true_divide\n",
      "  R_res[k] = 1 / model.coef_\n",
      "<ipython-input-57-713905c06f70>:16: RuntimeWarning: divide by zero encountered in true_divide\n",
      "  R_res[k] = 1 / model.coef_\n",
      "<ipython-input-57-713905c06f70>:16: RuntimeWarning: divide by zero encountered in true_divide\n",
      "  R_res[k] = 1 / model.coef_\n",
      "<ipython-input-57-713905c06f70>:16: RuntimeWarning: divide by zero encountered in true_divide\n",
      "  R_res[k] = 1 / model.coef_\n",
      "<ipython-input-57-713905c06f70>:16: RuntimeWarning: divide by zero encountered in true_divide\n",
      "  R_res[k] = 1 / model.coef_\n",
      "<ipython-input-57-713905c06f70>:16: RuntimeWarning: divide by zero encountered in true_divide\n",
      "  R_res[k] = 1 / model.coef_\n",
      "<ipython-input-57-713905c06f70>:16: RuntimeWarning: divide by zero encountered in true_divide\n",
      "  R_res[k] = 1 / model.coef_\n",
      "<ipython-input-57-713905c06f70>:16: RuntimeWarning: divide by zero encountered in true_divide\n",
      "  R_res[k] = 1 / model.coef_\n",
      "<ipython-input-57-713905c06f70>:16: RuntimeWarning: divide by zero encountered in true_divide\n",
      "  R_res[k] = 1 / model.coef_\n",
      "<ipython-input-57-713905c06f70>:16: RuntimeWarning: divide by zero encountered in true_divide\n",
      "  R_res[k] = 1 / model.coef_\n",
      "<ipython-input-57-713905c06f70>:16: RuntimeWarning: divide by zero encountered in true_divide\n",
      "  R_res[k] = 1 / model.coef_\n",
      "<ipython-input-57-713905c06f70>:16: RuntimeWarning: divide by zero encountered in true_divide\n",
      "  R_res[k] = 1 / model.coef_\n",
      "<ipython-input-57-713905c06f70>:16: RuntimeWarning: divide by zero encountered in true_divide\n",
      "  R_res[k] = 1 / model.coef_\n",
      "<ipython-input-57-713905c06f70>:16: RuntimeWarning: divide by zero encountered in true_divide\n",
      "  R_res[k] = 1 / model.coef_\n",
      "<ipython-input-57-713905c06f70>:16: RuntimeWarning: divide by zero encountered in true_divide\n",
      "  R_res[k] = 1 / model.coef_\n",
      "<ipython-input-57-713905c06f70>:16: RuntimeWarning: divide by zero encountered in true_divide\n",
      "  R_res[k] = 1 / model.coef_\n",
      "<ipython-input-57-713905c06f70>:16: RuntimeWarning: divide by zero encountered in true_divide\n",
      "  R_res[k] = 1 / model.coef_\n",
      "<ipython-input-57-713905c06f70>:16: RuntimeWarning: divide by zero encountered in true_divide\n",
      "  R_res[k] = 1 / model.coef_\n",
      "<ipython-input-57-713905c06f70>:16: RuntimeWarning: divide by zero encountered in true_divide\n",
      "  R_res[k] = 1 / model.coef_\n",
      "<ipython-input-57-713905c06f70>:16: RuntimeWarning: divide by zero encountered in true_divide\n",
      "  R_res[k] = 1 / model.coef_\n",
      "<ipython-input-57-713905c06f70>:16: RuntimeWarning: divide by zero encountered in true_divide\n",
      "  R_res[k] = 1 / model.coef_\n",
      "<ipython-input-57-713905c06f70>:16: RuntimeWarning: divide by zero encountered in true_divide\n",
      "  R_res[k] = 1 / model.coef_\n",
      "<ipython-input-57-713905c06f70>:16: RuntimeWarning: divide by zero encountered in true_divide\n",
      "  R_res[k] = 1 / model.coef_\n",
      "<ipython-input-57-713905c06f70>:16: RuntimeWarning: divide by zero encountered in true_divide\n",
      "  R_res[k] = 1 / model.coef_\n",
      "<ipython-input-57-713905c06f70>:16: RuntimeWarning: divide by zero encountered in true_divide\n",
      "  R_res[k] = 1 / model.coef_\n",
      "<ipython-input-57-713905c06f70>:16: RuntimeWarning: divide by zero encountered in true_divide\n",
      "  R_res[k] = 1 / model.coef_\n",
      "<ipython-input-57-713905c06f70>:16: RuntimeWarning: divide by zero encountered in true_divide\n",
      "  R_res[k] = 1 / model.coef_\n",
      "<ipython-input-57-713905c06f70>:16: RuntimeWarning: divide by zero encountered in true_divide\n",
      "  R_res[k] = 1 / model.coef_\n",
      "<ipython-input-57-713905c06f70>:16: RuntimeWarning: divide by zero encountered in true_divide\n",
      "  R_res[k] = 1 / model.coef_\n",
      "<ipython-input-57-713905c06f70>:16: RuntimeWarning: divide by zero encountered in true_divide\n",
      "  R_res[k] = 1 / model.coef_\n",
      "<ipython-input-57-713905c06f70>:16: RuntimeWarning: divide by zero encountered in true_divide\n",
      "  R_res[k] = 1 / model.coef_\n",
      "<ipython-input-57-713905c06f70>:16: RuntimeWarning: divide by zero encountered in true_divide\n",
      "  R_res[k] = 1 / model.coef_\n",
      "<ipython-input-57-713905c06f70>:16: RuntimeWarning: divide by zero encountered in true_divide\n",
      "  R_res[k] = 1 / model.coef_\n",
      "<ipython-input-57-713905c06f70>:16: RuntimeWarning: divide by zero encountered in true_divide\n",
      "  R_res[k] = 1 / model.coef_\n",
      "<ipython-input-57-713905c06f70>:16: RuntimeWarning: divide by zero encountered in true_divide\n",
      "  R_res[k] = 1 / model.coef_\n",
      "<ipython-input-57-713905c06f70>:16: RuntimeWarning: divide by zero encountered in true_divide\n",
      "  R_res[k] = 1 / model.coef_\n",
      "<ipython-input-57-713905c06f70>:16: RuntimeWarning: divide by zero encountered in true_divide\n",
      "  R_res[k] = 1 / model.coef_\n",
      "<ipython-input-57-713905c06f70>:16: RuntimeWarning: divide by zero encountered in true_divide\n",
      "  R_res[k] = 1 / model.coef_\n",
      "<ipython-input-57-713905c06f70>:16: RuntimeWarning: divide by zero encountered in true_divide\n",
      "  R_res[k] = 1 / model.coef_\n",
      "<ipython-input-57-713905c06f70>:16: RuntimeWarning: divide by zero encountered in true_divide\n",
      "  R_res[k] = 1 / model.coef_\n",
      "<ipython-input-57-713905c06f70>:16: RuntimeWarning: divide by zero encountered in true_divide\n",
      "  R_res[k] = 1 / model.coef_\n",
      "<ipython-input-57-713905c06f70>:16: RuntimeWarning: divide by zero encountered in true_divide\n",
      "  R_res[k] = 1 / model.coef_\n",
      "<ipython-input-57-713905c06f70>:16: RuntimeWarning: divide by zero encountered in true_divide\n",
      "  R_res[k] = 1 / model.coef_\n",
      "<ipython-input-57-713905c06f70>:16: RuntimeWarning: divide by zero encountered in true_divide\n",
      "  R_res[k] = 1 / model.coef_\n",
      "<ipython-input-57-713905c06f70>:16: RuntimeWarning: divide by zero encountered in true_divide\n",
      "  R_res[k] = 1 / model.coef_\n",
      "<ipython-input-57-713905c06f70>:16: RuntimeWarning: divide by zero encountered in true_divide\n",
      "  R_res[k] = 1 / model.coef_\n",
      "<ipython-input-57-713905c06f70>:16: RuntimeWarning: divide by zero encountered in true_divide\n",
      "  R_res[k] = 1 / model.coef_\n",
      "<ipython-input-57-713905c06f70>:16: RuntimeWarning: divide by zero encountered in true_divide\n",
      "  R_res[k] = 1 / model.coef_\n",
      "<ipython-input-57-713905c06f70>:16: RuntimeWarning: divide by zero encountered in true_divide\n",
      "  R_res[k] = 1 / model.coef_\n",
      "<ipython-input-57-713905c06f70>:16: RuntimeWarning: divide by zero encountered in true_divide\n",
      "  R_res[k] = 1 / model.coef_\n",
      "<ipython-input-57-713905c06f70>:16: RuntimeWarning: divide by zero encountered in true_divide\n",
      "  R_res[k] = 1 / model.coef_\n",
      "<ipython-input-57-713905c06f70>:16: RuntimeWarning: divide by zero encountered in true_divide\n",
      "  R_res[k] = 1 / model.coef_\n",
      "<ipython-input-57-713905c06f70>:16: RuntimeWarning: divide by zero encountered in true_divide\n",
      "  R_res[k] = 1 / model.coef_\n",
      "<ipython-input-57-713905c06f70>:16: RuntimeWarning: divide by zero encountered in true_divide\n",
      "  R_res[k] = 1 / model.coef_\n",
      "<ipython-input-57-713905c06f70>:16: RuntimeWarning: divide by zero encountered in true_divide\n",
      "  R_res[k] = 1 / model.coef_\n",
      "<ipython-input-57-713905c06f70>:16: RuntimeWarning: divide by zero encountered in true_divide\n",
      "  R_res[k] = 1 / model.coef_\n",
      "<ipython-input-57-713905c06f70>:16: RuntimeWarning: divide by zero encountered in true_divide\n",
      "  R_res[k] = 1 / model.coef_\n",
      "<ipython-input-57-713905c06f70>:16: RuntimeWarning: divide by zero encountered in true_divide\n",
      "  R_res[k] = 1 / model.coef_\n",
      "<ipython-input-57-713905c06f70>:16: RuntimeWarning: divide by zero encountered in true_divide\n",
      "  R_res[k] = 1 / model.coef_\n",
      "<ipython-input-57-713905c06f70>:16: RuntimeWarning: divide by zero encountered in true_divide\n",
      "  R_res[k] = 1 / model.coef_\n",
      "<ipython-input-57-713905c06f70>:16: RuntimeWarning: divide by zero encountered in true_divide\n",
      "  R_res[k] = 1 / model.coef_\n",
      "<ipython-input-57-713905c06f70>:16: RuntimeWarning: divide by zero encountered in true_divide\n",
      "  R_res[k] = 1 / model.coef_\n",
      "<ipython-input-57-713905c06f70>:16: RuntimeWarning: divide by zero encountered in true_divide\n",
      "  R_res[k] = 1 / model.coef_\n",
      "<ipython-input-57-713905c06f70>:16: RuntimeWarning: divide by zero encountered in true_divide\n",
      "  R_res[k] = 1 / model.coef_\n",
      "<ipython-input-57-713905c06f70>:16: RuntimeWarning: divide by zero encountered in true_divide\n",
      "  R_res[k] = 1 / model.coef_\n",
      "<ipython-input-57-713905c06f70>:16: RuntimeWarning: divide by zero encountered in true_divide\n",
      "  R_res[k] = 1 / model.coef_\n",
      "<ipython-input-57-713905c06f70>:16: RuntimeWarning: divide by zero encountered in true_divide\n",
      "  R_res[k] = 1 / model.coef_\n",
      "<ipython-input-57-713905c06f70>:16: RuntimeWarning: divide by zero encountered in true_divide\n",
      "  R_res[k] = 1 / model.coef_\n",
      "<ipython-input-57-713905c06f70>:16: RuntimeWarning: divide by zero encountered in true_divide\n",
      "  R_res[k] = 1 / model.coef_\n",
      "<ipython-input-57-713905c06f70>:16: RuntimeWarning: divide by zero encountered in true_divide\n",
      "  R_res[k] = 1 / model.coef_\n",
      "<ipython-input-57-713905c06f70>:16: RuntimeWarning: divide by zero encountered in true_divide\n",
      "  R_res[k] = 1 / model.coef_\n",
      "<ipython-input-57-713905c06f70>:16: RuntimeWarning: divide by zero encountered in true_divide\n",
      "  R_res[k] = 1 / model.coef_\n",
      "<ipython-input-57-713905c06f70>:16: RuntimeWarning: divide by zero encountered in true_divide\n",
      "  R_res[k] = 1 / model.coef_\n",
      "<ipython-input-57-713905c06f70>:16: RuntimeWarning: divide by zero encountered in true_divide\n",
      "  R_res[k] = 1 / model.coef_\n",
      "<ipython-input-57-713905c06f70>:16: RuntimeWarning: divide by zero encountered in true_divide\n",
      "  R_res[k] = 1 / model.coef_\n",
      "<ipython-input-57-713905c06f70>:16: RuntimeWarning: divide by zero encountered in true_divide\n",
      "  R_res[k] = 1 / model.coef_\n",
      "<ipython-input-57-713905c06f70>:16: RuntimeWarning: divide by zero encountered in true_divide\n",
      "  R_res[k] = 1 / model.coef_\n",
      "<ipython-input-57-713905c06f70>:16: RuntimeWarning: divide by zero encountered in true_divide\n",
      "  R_res[k] = 1 / model.coef_\n",
      "<ipython-input-57-713905c06f70>:16: RuntimeWarning: divide by zero encountered in true_divide\n",
      "  R_res[k] = 1 / model.coef_\n",
      "<ipython-input-57-713905c06f70>:16: RuntimeWarning: divide by zero encountered in true_divide\n",
      "  R_res[k] = 1 / model.coef_\n",
      "<ipython-input-57-713905c06f70>:16: RuntimeWarning: divide by zero encountered in true_divide\n",
      "  R_res[k] = 1 / model.coef_\n",
      "<ipython-input-57-713905c06f70>:16: RuntimeWarning: divide by zero encountered in true_divide\n",
      "  R_res[k] = 1 / model.coef_\n",
      "<ipython-input-57-713905c06f70>:16: RuntimeWarning: divide by zero encountered in true_divide\n",
      "  R_res[k] = 1 / model.coef_\n",
      "<ipython-input-57-713905c06f70>:16: RuntimeWarning: divide by zero encountered in true_divide\n",
      "  R_res[k] = 1 / model.coef_\n",
      "<ipython-input-57-713905c06f70>:16: RuntimeWarning: divide by zero encountered in true_divide\n",
      "  R_res[k] = 1 / model.coef_\n",
      "<ipython-input-57-713905c06f70>:16: RuntimeWarning: divide by zero encountered in true_divide\n",
      "  R_res[k] = 1 / model.coef_\n",
      "<ipython-input-57-713905c06f70>:16: RuntimeWarning: divide by zero encountered in true_divide\n",
      "  R_res[k] = 1 / model.coef_\n",
      "<ipython-input-57-713905c06f70>:16: RuntimeWarning: divide by zero encountered in true_divide\n",
      "  R_res[k] = 1 / model.coef_\n",
      "<ipython-input-57-713905c06f70>:16: RuntimeWarning: divide by zero encountered in true_divide\n",
      "  R_res[k] = 1 / model.coef_\n",
      "<ipython-input-57-713905c06f70>:16: RuntimeWarning: divide by zero encountered in true_divide\n",
      "  R_res[k] = 1 / model.coef_\n",
      "<ipython-input-57-713905c06f70>:16: RuntimeWarning: divide by zero encountered in true_divide\n",
      "  R_res[k] = 1 / model.coef_\n",
      "<ipython-input-57-713905c06f70>:16: RuntimeWarning: divide by zero encountered in true_divide\n",
      "  R_res[k] = 1 / model.coef_\n",
      "<ipython-input-57-713905c06f70>:16: RuntimeWarning: divide by zero encountered in true_divide\n",
      "  R_res[k] = 1 / model.coef_\n",
      "<ipython-input-57-713905c06f70>:16: RuntimeWarning: divide by zero encountered in true_divide\n",
      "  R_res[k] = 1 / model.coef_\n",
      "<ipython-input-57-713905c06f70>:16: RuntimeWarning: divide by zero encountered in true_divide\n",
      "  R_res[k] = 1 / model.coef_\n",
      "<ipython-input-57-713905c06f70>:16: RuntimeWarning: divide by zero encountered in true_divide\n",
      "  R_res[k] = 1 / model.coef_\n",
      "<ipython-input-57-713905c06f70>:16: RuntimeWarning: divide by zero encountered in true_divide\n",
      "  R_res[k] = 1 / model.coef_\n",
      "<ipython-input-57-713905c06f70>:16: RuntimeWarning: divide by zero encountered in true_divide\n",
      "  R_res[k] = 1 / model.coef_\n",
      "<ipython-input-57-713905c06f70>:16: RuntimeWarning: divide by zero encountered in true_divide\n",
      "  R_res[k] = 1 / model.coef_\n",
      "<ipython-input-57-713905c06f70>:16: RuntimeWarning: divide by zero encountered in true_divide\n",
      "  R_res[k] = 1 / model.coef_\n",
      "<ipython-input-57-713905c06f70>:16: RuntimeWarning: divide by zero encountered in true_divide\n",
      "  R_res[k] = 1 / model.coef_\n",
      "<ipython-input-57-713905c06f70>:16: RuntimeWarning: divide by zero encountered in true_divide\n",
      "  R_res[k] = 1 / model.coef_\n",
      "<ipython-input-57-713905c06f70>:16: RuntimeWarning: divide by zero encountered in true_divide\n",
      "  R_res[k] = 1 / model.coef_\n",
      "<ipython-input-57-713905c06f70>:16: RuntimeWarning: divide by zero encountered in true_divide\n",
      "  R_res[k] = 1 / model.coef_\n",
      "<ipython-input-57-713905c06f70>:16: RuntimeWarning: divide by zero encountered in true_divide\n",
      "  R_res[k] = 1 / model.coef_\n",
      "<ipython-input-57-713905c06f70>:16: RuntimeWarning: divide by zero encountered in true_divide\n",
      "  R_res[k] = 1 / model.coef_\n",
      "<ipython-input-57-713905c06f70>:16: RuntimeWarning: divide by zero encountered in true_divide\n",
      "  R_res[k] = 1 / model.coef_\n",
      "<ipython-input-57-713905c06f70>:16: RuntimeWarning: divide by zero encountered in true_divide\n",
      "  R_res[k] = 1 / model.coef_\n",
      "<ipython-input-57-713905c06f70>:16: RuntimeWarning: divide by zero encountered in true_divide\n",
      "  R_res[k] = 1 / model.coef_\n",
      "<ipython-input-57-713905c06f70>:16: RuntimeWarning: divide by zero encountered in true_divide\n",
      "  R_res[k] = 1 / model.coef_\n",
      "<ipython-input-57-713905c06f70>:16: RuntimeWarning: divide by zero encountered in true_divide\n",
      "  R_res[k] = 1 / model.coef_\n",
      "<ipython-input-57-713905c06f70>:16: RuntimeWarning: divide by zero encountered in true_divide\n",
      "  R_res[k] = 1 / model.coef_\n",
      "<ipython-input-57-713905c06f70>:16: RuntimeWarning: divide by zero encountered in true_divide\n",
      "  R_res[k] = 1 / model.coef_\n",
      "<ipython-input-57-713905c06f70>:16: RuntimeWarning: divide by zero encountered in true_divide\n",
      "  R_res[k] = 1 / model.coef_\n",
      "<ipython-input-57-713905c06f70>:16: RuntimeWarning: divide by zero encountered in true_divide\n",
      "  R_res[k] = 1 / model.coef_\n",
      "<ipython-input-57-713905c06f70>:16: RuntimeWarning: divide by zero encountered in true_divide\n",
      "  R_res[k] = 1 / model.coef_\n",
      "<ipython-input-57-713905c06f70>:16: RuntimeWarning: divide by zero encountered in true_divide\n",
      "  R_res[k] = 1 / model.coef_\n",
      "<ipython-input-57-713905c06f70>:16: RuntimeWarning: divide by zero encountered in true_divide\n",
      "  R_res[k] = 1 / model.coef_\n",
      "<ipython-input-57-713905c06f70>:16: RuntimeWarning: divide by zero encountered in true_divide\n",
      "  R_res[k] = 1 / model.coef_\n",
      "<ipython-input-57-713905c06f70>:16: RuntimeWarning: divide by zero encountered in true_divide\n",
      "  R_res[k] = 1 / model.coef_\n",
      "<ipython-input-57-713905c06f70>:16: RuntimeWarning: divide by zero encountered in true_divide\n",
      "  R_res[k] = 1 / model.coef_\n",
      "<ipython-input-57-713905c06f70>:16: RuntimeWarning: divide by zero encountered in true_divide\n",
      "  R_res[k] = 1 / model.coef_\n",
      "<ipython-input-57-713905c06f70>:16: RuntimeWarning: divide by zero encountered in true_divide\n",
      "  R_res[k] = 1 / model.coef_\n",
      "<ipython-input-57-713905c06f70>:16: RuntimeWarning: divide by zero encountered in true_divide\n",
      "  R_res[k] = 1 / model.coef_\n",
      "<ipython-input-57-713905c06f70>:16: RuntimeWarning: divide by zero encountered in true_divide\n",
      "  R_res[k] = 1 / model.coef_\n",
      "<ipython-input-57-713905c06f70>:16: RuntimeWarning: divide by zero encountered in true_divide\n",
      "  R_res[k] = 1 / model.coef_\n",
      "<ipython-input-57-713905c06f70>:16: RuntimeWarning: divide by zero encountered in true_divide\n",
      "  R_res[k] = 1 / model.coef_\n",
      "<ipython-input-57-713905c06f70>:16: RuntimeWarning: divide by zero encountered in true_divide\n",
      "  R_res[k] = 1 / model.coef_\n",
      "<ipython-input-57-713905c06f70>:16: RuntimeWarning: divide by zero encountered in true_divide\n",
      "  R_res[k] = 1 / model.coef_\n",
      "<ipython-input-57-713905c06f70>:16: RuntimeWarning: divide by zero encountered in true_divide\n",
      "  R_res[k] = 1 / model.coef_\n",
      "<ipython-input-57-713905c06f70>:16: RuntimeWarning: divide by zero encountered in true_divide\n",
      "  R_res[k] = 1 / model.coef_\n",
      "<ipython-input-57-713905c06f70>:16: RuntimeWarning: divide by zero encountered in true_divide\n",
      "  R_res[k] = 1 / model.coef_\n",
      "<ipython-input-57-713905c06f70>:16: RuntimeWarning: divide by zero encountered in true_divide\n",
      "  R_res[k] = 1 / model.coef_\n",
      "<ipython-input-57-713905c06f70>:16: RuntimeWarning: divide by zero encountered in true_divide\n",
      "  R_res[k] = 1 / model.coef_\n",
      "<ipython-input-57-713905c06f70>:16: RuntimeWarning: divide by zero encountered in true_divide\n",
      "  R_res[k] = 1 / model.coef_\n",
      "<ipython-input-57-713905c06f70>:16: RuntimeWarning: divide by zero encountered in true_divide\n",
      "  R_res[k] = 1 / model.coef_\n",
      "<ipython-input-57-713905c06f70>:16: RuntimeWarning: divide by zero encountered in true_divide\n",
      "  R_res[k] = 1 / model.coef_\n",
      "<ipython-input-57-713905c06f70>:16: RuntimeWarning: divide by zero encountered in true_divide\n",
      "  R_res[k] = 1 / model.coef_\n",
      "<ipython-input-57-713905c06f70>:16: RuntimeWarning: divide by zero encountered in true_divide\n",
      "  R_res[k] = 1 / model.coef_\n",
      "<ipython-input-57-713905c06f70>:16: RuntimeWarning: divide by zero encountered in true_divide\n",
      "  R_res[k] = 1 / model.coef_\n",
      "<ipython-input-57-713905c06f70>:16: RuntimeWarning: divide by zero encountered in true_divide\n",
      "  R_res[k] = 1 / model.coef_\n",
      "<ipython-input-57-713905c06f70>:16: RuntimeWarning: divide by zero encountered in true_divide\n",
      "  R_res[k] = 1 / model.coef_\n",
      "<ipython-input-57-713905c06f70>:16: RuntimeWarning: divide by zero encountered in true_divide\n",
      "  R_res[k] = 1 / model.coef_\n",
      "<ipython-input-57-713905c06f70>:16: RuntimeWarning: divide by zero encountered in true_divide\n",
      "  R_res[k] = 1 / model.coef_\n",
      "<ipython-input-57-713905c06f70>:16: RuntimeWarning: divide by zero encountered in true_divide\n",
      "  R_res[k] = 1 / model.coef_\n",
      "<ipython-input-57-713905c06f70>:16: RuntimeWarning: divide by zero encountered in true_divide\n",
      "  R_res[k] = 1 / model.coef_\n",
      "<ipython-input-57-713905c06f70>:16: RuntimeWarning: divide by zero encountered in true_divide\n",
      "  R_res[k] = 1 / model.coef_\n",
      "<ipython-input-57-713905c06f70>:16: RuntimeWarning: divide by zero encountered in true_divide\n",
      "  R_res[k] = 1 / model.coef_\n",
      "<ipython-input-57-713905c06f70>:16: RuntimeWarning: divide by zero encountered in true_divide\n",
      "  R_res[k] = 1 / model.coef_\n",
      "<ipython-input-57-713905c06f70>:16: RuntimeWarning: divide by zero encountered in true_divide\n",
      "  R_res[k] = 1 / model.coef_\n",
      "<ipython-input-57-713905c06f70>:16: RuntimeWarning: divide by zero encountered in true_divide\n",
      "  R_res[k] = 1 / model.coef_\n",
      "<ipython-input-57-713905c06f70>:16: RuntimeWarning: divide by zero encountered in true_divide\n",
      "  R_res[k] = 1 / model.coef_\n",
      "<ipython-input-57-713905c06f70>:16: RuntimeWarning: divide by zero encountered in true_divide\n",
      "  R_res[k] = 1 / model.coef_\n",
      "<ipython-input-57-713905c06f70>:16: RuntimeWarning: divide by zero encountered in true_divide\n",
      "  R_res[k] = 1 / model.coef_\n",
      "<ipython-input-57-713905c06f70>:16: RuntimeWarning: divide by zero encountered in true_divide\n",
      "  R_res[k] = 1 / model.coef_\n",
      "<ipython-input-57-713905c06f70>:16: RuntimeWarning: divide by zero encountered in true_divide\n",
      "  R_res[k] = 1 / model.coef_\n",
      "<ipython-input-57-713905c06f70>:16: RuntimeWarning: divide by zero encountered in true_divide\n",
      "  R_res[k] = 1 / model.coef_\n",
      "<ipython-input-57-713905c06f70>:16: RuntimeWarning: divide by zero encountered in true_divide\n",
      "  R_res[k] = 1 / model.coef_\n",
      "<ipython-input-57-713905c06f70>:16: RuntimeWarning: divide by zero encountered in true_divide\n",
      "  R_res[k] = 1 / model.coef_\n",
      "<ipython-input-57-713905c06f70>:16: RuntimeWarning: divide by zero encountered in true_divide\n",
      "  R_res[k] = 1 / model.coef_\n",
      "<ipython-input-57-713905c06f70>:16: RuntimeWarning: divide by zero encountered in true_divide\n",
      "  R_res[k] = 1 / model.coef_\n",
      "<ipython-input-57-713905c06f70>:16: RuntimeWarning: divide by zero encountered in true_divide\n",
      "  R_res[k] = 1 / model.coef_\n",
      "<ipython-input-57-713905c06f70>:16: RuntimeWarning: divide by zero encountered in true_divide\n",
      "  R_res[k] = 1 / model.coef_\n",
      "<ipython-input-57-713905c06f70>:16: RuntimeWarning: divide by zero encountered in true_divide\n",
      "  R_res[k] = 1 / model.coef_\n",
      "<ipython-input-57-713905c06f70>:16: RuntimeWarning: divide by zero encountered in true_divide\n",
      "  R_res[k] = 1 / model.coef_\n",
      "<ipython-input-57-713905c06f70>:16: RuntimeWarning: divide by zero encountered in true_divide\n",
      "  R_res[k] = 1 / model.coef_\n",
      "<ipython-input-57-713905c06f70>:16: RuntimeWarning: divide by zero encountered in true_divide\n",
      "  R_res[k] = 1 / model.coef_\n",
      "<ipython-input-57-713905c06f70>:16: RuntimeWarning: divide by zero encountered in true_divide\n",
      "  R_res[k] = 1 / model.coef_\n",
      "<ipython-input-57-713905c06f70>:16: RuntimeWarning: divide by zero encountered in true_divide\n",
      "  R_res[k] = 1 / model.coef_\n",
      "<ipython-input-57-713905c06f70>:16: RuntimeWarning: divide by zero encountered in true_divide\n",
      "  R_res[k] = 1 / model.coef_\n",
      "<ipython-input-57-713905c06f70>:16: RuntimeWarning: divide by zero encountered in true_divide\n",
      "  R_res[k] = 1 / model.coef_\n",
      "<ipython-input-57-713905c06f70>:16: RuntimeWarning: divide by zero encountered in true_divide\n",
      "  R_res[k] = 1 / model.coef_\n",
      "<ipython-input-57-713905c06f70>:16: RuntimeWarning: divide by zero encountered in true_divide\n",
      "  R_res[k] = 1 / model.coef_\n",
      "<ipython-input-57-713905c06f70>:16: RuntimeWarning: divide by zero encountered in true_divide\n",
      "  R_res[k] = 1 / model.coef_\n",
      "<ipython-input-57-713905c06f70>:16: RuntimeWarning: divide by zero encountered in true_divide\n",
      "  R_res[k] = 1 / model.coef_\n",
      "<ipython-input-57-713905c06f70>:16: RuntimeWarning: divide by zero encountered in true_divide\n",
      "  R_res[k] = 1 / model.coef_\n",
      "<ipython-input-57-713905c06f70>:16: RuntimeWarning: divide by zero encountered in true_divide\n",
      "  R_res[k] = 1 / model.coef_\n"
     ]
    },
    {
     "name": "stderr",
     "output_type": "stream",
     "text": [
      "<ipython-input-57-713905c06f70>:16: RuntimeWarning: divide by zero encountered in true_divide\n",
      "  R_res[k] = 1 / model.coef_\n",
      "<ipython-input-57-713905c06f70>:16: RuntimeWarning: divide by zero encountered in true_divide\n",
      "  R_res[k] = 1 / model.coef_\n",
      "<ipython-input-57-713905c06f70>:16: RuntimeWarning: divide by zero encountered in true_divide\n",
      "  R_res[k] = 1 / model.coef_\n",
      "<ipython-input-57-713905c06f70>:16: RuntimeWarning: divide by zero encountered in true_divide\n",
      "  R_res[k] = 1 / model.coef_\n",
      "<ipython-input-57-713905c06f70>:16: RuntimeWarning: divide by zero encountered in true_divide\n",
      "  R_res[k] = 1 / model.coef_\n",
      "<ipython-input-57-713905c06f70>:16: RuntimeWarning: divide by zero encountered in true_divide\n",
      "  R_res[k] = 1 / model.coef_\n",
      "<ipython-input-57-713905c06f70>:16: RuntimeWarning: divide by zero encountered in true_divide\n",
      "  R_res[k] = 1 / model.coef_\n",
      "<ipython-input-57-713905c06f70>:16: RuntimeWarning: divide by zero encountered in true_divide\n",
      "  R_res[k] = 1 / model.coef_\n",
      "<ipython-input-57-713905c06f70>:16: RuntimeWarning: divide by zero encountered in true_divide\n",
      "  R_res[k] = 1 / model.coef_\n",
      "<ipython-input-57-713905c06f70>:16: RuntimeWarning: divide by zero encountered in true_divide\n",
      "  R_res[k] = 1 / model.coef_\n",
      "<ipython-input-57-713905c06f70>:16: RuntimeWarning: divide by zero encountered in true_divide\n",
      "  R_res[k] = 1 / model.coef_\n",
      "<ipython-input-57-713905c06f70>:16: RuntimeWarning: divide by zero encountered in true_divide\n",
      "  R_res[k] = 1 / model.coef_\n",
      "<ipython-input-57-713905c06f70>:16: RuntimeWarning: divide by zero encountered in true_divide\n",
      "  R_res[k] = 1 / model.coef_\n",
      "<ipython-input-57-713905c06f70>:16: RuntimeWarning: divide by zero encountered in true_divide\n",
      "  R_res[k] = 1 / model.coef_\n",
      "<ipython-input-57-713905c06f70>:16: RuntimeWarning: divide by zero encountered in true_divide\n",
      "  R_res[k] = 1 / model.coef_\n",
      "<ipython-input-57-713905c06f70>:16: RuntimeWarning: divide by zero encountered in true_divide\n",
      "  R_res[k] = 1 / model.coef_\n",
      "<ipython-input-57-713905c06f70>:16: RuntimeWarning: divide by zero encountered in true_divide\n",
      "  R_res[k] = 1 / model.coef_\n",
      "<ipython-input-57-713905c06f70>:16: RuntimeWarning: divide by zero encountered in true_divide\n",
      "  R_res[k] = 1 / model.coef_\n",
      "<ipython-input-57-713905c06f70>:16: RuntimeWarning: divide by zero encountered in true_divide\n",
      "  R_res[k] = 1 / model.coef_\n",
      "<ipython-input-57-713905c06f70>:16: RuntimeWarning: divide by zero encountered in true_divide\n",
      "  R_res[k] = 1 / model.coef_\n",
      "<ipython-input-57-713905c06f70>:16: RuntimeWarning: divide by zero encountered in true_divide\n",
      "  R_res[k] = 1 / model.coef_\n",
      "<ipython-input-57-713905c06f70>:16: RuntimeWarning: divide by zero encountered in true_divide\n",
      "  R_res[k] = 1 / model.coef_\n",
      "<ipython-input-57-713905c06f70>:16: RuntimeWarning: divide by zero encountered in true_divide\n",
      "  R_res[k] = 1 / model.coef_\n",
      "<ipython-input-57-713905c06f70>:16: RuntimeWarning: divide by zero encountered in true_divide\n",
      "  R_res[k] = 1 / model.coef_\n",
      "<ipython-input-57-713905c06f70>:16: RuntimeWarning: divide by zero encountered in true_divide\n",
      "  R_res[k] = 1 / model.coef_\n",
      "<ipython-input-57-713905c06f70>:16: RuntimeWarning: divide by zero encountered in true_divide\n",
      "  R_res[k] = 1 / model.coef_\n",
      "<ipython-input-57-713905c06f70>:16: RuntimeWarning: divide by zero encountered in true_divide\n",
      "  R_res[k] = 1 / model.coef_\n",
      "<ipython-input-57-713905c06f70>:16: RuntimeWarning: divide by zero encountered in true_divide\n",
      "  R_res[k] = 1 / model.coef_\n",
      "<ipython-input-57-713905c06f70>:16: RuntimeWarning: divide by zero encountered in true_divide\n",
      "  R_res[k] = 1 / model.coef_\n",
      "<ipython-input-57-713905c06f70>:16: RuntimeWarning: divide by zero encountered in true_divide\n",
      "  R_res[k] = 1 / model.coef_\n",
      "<ipython-input-57-713905c06f70>:16: RuntimeWarning: divide by zero encountered in true_divide\n",
      "  R_res[k] = 1 / model.coef_\n",
      "<ipython-input-57-713905c06f70>:16: RuntimeWarning: divide by zero encountered in true_divide\n",
      "  R_res[k] = 1 / model.coef_\n",
      "<ipython-input-57-713905c06f70>:16: RuntimeWarning: divide by zero encountered in true_divide\n",
      "  R_res[k] = 1 / model.coef_\n",
      "<ipython-input-57-713905c06f70>:16: RuntimeWarning: divide by zero encountered in true_divide\n",
      "  R_res[k] = 1 / model.coef_\n",
      "<ipython-input-57-713905c06f70>:16: RuntimeWarning: divide by zero encountered in true_divide\n",
      "  R_res[k] = 1 / model.coef_\n",
      "<ipython-input-57-713905c06f70>:16: RuntimeWarning: divide by zero encountered in true_divide\n",
      "  R_res[k] = 1 / model.coef_\n",
      "<ipython-input-57-713905c06f70>:16: RuntimeWarning: divide by zero encountered in true_divide\n",
      "  R_res[k] = 1 / model.coef_\n",
      "<ipython-input-57-713905c06f70>:16: RuntimeWarning: divide by zero encountered in true_divide\n",
      "  R_res[k] = 1 / model.coef_\n",
      "<ipython-input-57-713905c06f70>:16: RuntimeWarning: divide by zero encountered in true_divide\n",
      "  R_res[k] = 1 / model.coef_\n"
     ]
    }
   ],
   "source": [
    "# Get residual resistance\n",
    "\n",
    "R_res = np.zeros((ndet,1))\n",
    "\n",
    "for k in range(ndet):\n",
    "    #print(k)\n",
    "    if latch_pt[k] == 0:\n",
    "        continue\n",
    "    \n",
    "    x = Vol[k][latch_pt[k]+1:].reshape(-1, 1)\n",
    "    y = Cur[k][latch_pt[k]+1:]\n",
    "    \n",
    "    model = LinearRegression()\n",
    "    model.fit(x, y)\n",
    "    \n",
    "    R_res[k] = 1 / model.coef_\n",
    "    #rr_intercept[k] = model.intercept_"
   ]
  },
  {
   "cell_type": "markdown",
   "id": "beginning-hobby",
   "metadata": {},
   "source": [
    "Plots below: we can see that the mean is about 0.3 with a fairly tight distribution. Plotting Rres vs frequency is also illuminating. We can see that there is a pretty tight distribution at a given frequency and the mean is rising with frequency. This is not suprising as dielectric loss and cable inductance tend to increase with frequency."
   ]
  },
  {
   "cell_type": "code",
   "execution_count": 73,
   "id": "armed-handy",
   "metadata": {},
   "outputs": [
    {
     "data": {
      "text/plain": [
       "(array([  0.,  18., 511., 771., 401., 101.,  48.,  32.,  17.,  19.,  10.,\n",
       "         11.,  79.,  30.,   0.,   1.,   1.,   1.,   0.]),\n",
       " array([0.        , 0.07894737, 0.15789474, 0.23684211, 0.31578947,\n",
       "        0.39473684, 0.47368421, 0.55263158, 0.63157895, 0.71052632,\n",
       "        0.78947368, 0.86842105, 0.94736842, 1.02631579, 1.10526316,\n",
       "        1.18421053, 1.26315789, 1.34210526, 1.42105263, 1.5       ]),\n",
       " <BarContainer object of 19 artists>)"
      ]
     },
     "execution_count": 73,
     "metadata": {},
     "output_type": "execute_result"
    },
    {
     "data": {
      "image/png": "[encoded data removed]",
      "text/plain": [
       "<Figure size 432x288 with 1 Axes>"
      ]
     },
     "metadata": {
      "needs_background": "light"
     },
     "output_type": "display_data"
    }
   ],
   "source": [
    "plt.hist(R_res, bins=np.linspace(0, 1.5, 20))"
   ]
  },
  {
   "cell_type": "code",
   "execution_count": 75,
   "id": "consecutive-chambers",
   "metadata": {},
   "outputs": [
    {
     "data": {
      "text/plain": [
       "(0.0, 1.5)"
      ]
     },
     "execution_count": 75,
     "metadata": {},
     "output_type": "execute_result"
    },
    {
     "data": {
      "image/png": "[encoded data removed]",
      "text/plain": [
       "<Figure size 432x288 with 1 Axes>"
      ]
     },
     "metadata": {
      "needs_background": "light"
     },
     "output_type": "display_data"
    }
   ],
   "source": [
    "plt.plot(frq, R_res, '.')\n",
    "plt.ylim(0, 1.5)"
   ]
  },
  {
   "cell_type": "markdown",
   "id": "handled-optimization",
   "metadata": {},
   "source": [
    "### Calibrate measurement"
   ]
  },
  {
   "cell_type": "markdown",
   "id": "polyphonic-david",
   "metadata": {},
   "source": [
    "First let's calculate our calibration factor Cf1"
   ]
  },
  {
   "cell_type": "code",
   "execution_count": 89,
   "id": "integral-kruger",
   "metadata": {},
   "outputs": [
    {
     "name": "stderr",
     "output_type": "stream",
     "text": [
      "<ipython-input-89-de61b71771a0>:1: RuntimeWarning: invalid value encountered in true_divide\n",
      "  Rtot = Vol/Cur\n"
     ]
    }
   ],
   "source": [
    "Rtot = Vol/Cur\n",
    "Cf1 = 1 - R_res/Rtot"
   ]
  },
  {
   "cell_type": "markdown",
   "id": "chief-brisbane",
   "metadata": {},
   "source": [
    "There are a few ways to visualize the effect of Cf1. The most intuitive is probably looking at I-V and R-V curves"
   ]
  },
  {
   "cell_type": "code",
   "execution_count": 99,
   "id": "human-steam",
   "metadata": {},
   "outputs": [
    {
     "data": {
      "text/plain": [
       "[<matplotlib.lines.Line2D at 0x7f145326cd00>]"
      ]
     },
     "execution_count": 99,
     "metadata": {},
     "output_type": "execute_result"
    },
    {
     "data": {
      "image/png": "[encoded data removed]",
      "text/plain": [
       "<Figure size 576x576 with 2 Axes>"
      ]
     },
     "metadata": {
      "needs_background": "light"
     },
     "output_type": "display_data"
    }
   ],
   "source": [
    "ch = 0\n",
    "fig, axs = plt.subplots(2, 1, figsize=(8, 8))\n",
    "\n",
    "ax = axs[0]\n",
    "ax.plot(Vol[ch], Cur[ch], '.')\n",
    "ax.plot(Vol[ch]*Cf1[ch], Cur[ch], '.')\n",
    "\n",
    "ax = axs[1]\n",
    "ax.plot(Vol[ch], Rtot[ch], '.')\n",
    "ax.plot(Vol[ch]*Cf1[ch], Rtot[ch]*Cf1[ch], '.')"
   ]
  },
  {
   "cell_type": "code",
   "execution_count": 87,
   "id": "exotic-struggle",
   "metadata": {},
   "outputs": [
    {
     "data": {
      "image/png": "[encoded data removed]",
      "text/plain": [
       "<Figure size 432x288 with 1 Axes>"
      ]
     },
     "metadata": {
      "needs_background": "light"
     },
     "output_type": "display_data"
    }
   ],
   "source": [
    "plt.plot(Vol[0], Vol[0]*Cf1[0], '.')\n",
    "plt.grid()"
   ]
  },
  {
   "cell_type": "code",
   "execution_count": 55,
   "id": "divided-listing",
   "metadata": {},
   "outputs": [
    {
     "data": {
      "text/plain": [
       "'#temporarily set all points to the left of latching point to large values\\nCur_temp = np.full(Cur.shape, 100.)\\n\\nfor k in range(ndet):\\n    Cur_temp[k][:latch_pt[k]] = Cur[k][:latch_pt[k]]\\n\\nturnaround_pt = np.argmin(Cur_temp, axis=1)'"
      ]
     },
     "execution_count": 55,
     "metadata": {},
     "output_type": "execute_result"
    }
   ],
   "source": [
    "#Find turnaround\n",
    "'''#temporarily set all points to the left of latching point to large values\n",
    "Cur_temp = np.full(Cur.shape, 100.)\n",
    "\n",
    "for k in range(ndet):\n",
    "    Cur_temp[k][:latch_pt[k]] = Cur[k][:latch_pt[k]]\n",
    "\n",
    "turnaround_pt = np.argmin(Cur_temp, axis=1)'''"
   ]
  },
  {
   "cell_type": "code",
   "execution_count": 56,
   "id": "cosmetic-mainstream",
   "metadata": {},
   "outputs": [
    {
     "data": {
      "text/plain": [
       "'# take the first half of the data before the turnaround to be the region where the detector is fully normal\\nnormal = (turnaround_pt/2).astype(int)\\n\\nR_tot = np.zeros((ndet,1))\\n#rn_intercept = np.zeros(ndet)\\n\\nfor k in range(ndet):\\n    \\n    if normal[k] <= 1:\\n        continue\\n    \\n    x = Vol[k][:normal[k]].reshape(-1, 1)\\n    y = Cur[k][:normal[k]]\\n    \\n    model = LinearRegression()\\n    model.fit(x, y)\\n    \\n    R_max[k] = 1 / model.coef_\\n    #rn_intercept[k] = model.intercept_'"
      ]
     },
     "execution_count": 56,
     "metadata": {},
     "output_type": "execute_result"
    }
   ],
   "source": [
    "# fit normal resistance\n",
    "'''# take the first half of the data before the turnaround to be the region where the detector is fully normal\n",
    "normal = (turnaround_pt/2).astype(int)\n",
    "\n",
    "R_tot = np.zeros((ndet,1))\n",
    "#rn_intercept = np.zeros(ndet)\n",
    "\n",
    "for k in range(ndet):\n",
    "    \n",
    "    if normal[k] <= 1:\n",
    "        continue\n",
    "    \n",
    "    x = Vol[k][:normal[k]].reshape(-1, 1)\n",
    "    y = Cur[k][:normal[k]]\n",
    "    \n",
    "    model = LinearRegression()\n",
    "    model.fit(x, y)\n",
    "    \n",
    "    R_max[k] = 1 / model.coef_\n",
    "    #rn_intercept[k] = model.intercept_'''"
   ]
  },
  {
   "cell_type": "markdown",
   "id": "private-enzyme",
   "metadata": {},
   "source": []
  },
  {
   "cell_type": "markdown",
   "id": "ongoing-avenue",
   "metadata": {},
   "source": [
    "Next we're going to apply to calibrations to the data set. I'll motivate them each and then apply the calibration."
   ]
  },
  {
   "cell_type": "markdown",
   "id": "excess-western",
   "metadata": {},
   "source": [
    "First we need to deal with the residual resistance. We will model this as a unique resistance in series with each detector. The values in Vol are voltages applied accross the series combination of a detector and a residual resistance. \n",
    "\n",
    "The TES resistance is given by: \n",
    "\n",
    "$R_{TES} = R_{tot}-R_{res}$\n",
    "\n",
    "The voltage across the TES is related to Vol by the following:\n",
    "\n",
    "$V_{TES} = V \\frac{R_{TES}}{R_{TES}+R_{res}} = V (1-\\frac{R_{res}}{R_{tot}})$\n",
    "\n",
    "We'll define the coefficient in this equation as calibration factor 1 (cf1)\n",
    "\n",
    "For our next calculations, we will want to estimate the voltage across just the detector. Since we have fit for the residual resistance and we can get the total resistance by dividing Vol by Cur, we can do this math. Note that the current through the detector does not need to be calibrated because it is the same current flowing through both elements"
   ]
  },
  {
   "cell_type": "code",
   "execution_count": 33,
   "id": "natural-standing",
   "metadata": {},
   "outputs": [
    {
     "name": "stderr",
     "output_type": "stream",
     "text": [
      "<ipython-input-33-a54db45ad4a1>:1: RuntimeWarning: invalid value encountered in true_divide\n",
      "  R_tot = Vol/Cur\n"
     ]
    }
   ],
   "source": [
    "R_tot = Vol/Cur\n",
    "Cf1 = 1 - R_res / R_tot"
   ]
  },
  {
   "cell_type": "markdown",
   "id": "listed-florence",
   "metadata": {},
   "source": [
    "Let's take a look at some data with this calibration applied:"
   ]
  },
  {
   "cell_type": "code",
   "execution_count": 38,
   "id": "desperate-charlotte",
   "metadata": {},
   "outputs": [
    {
     "data": {
      "image/png": "[encoded data removed]",
      "text/plain": [
       "<Figure size 432x288 with 1 Axes>"
      ]
     },
     "metadata": {
      "needs_background": "light"
     },
     "output_type": "display_data"
    }
   ],
   "source": [
    "plt.plot(Vol[0], Cur[0], '.')\n",
    "plt.plot(Vol[0]*Cf1[0], Cur[0], '.')\n",
    "plt.xlabel('Voltage [$\\mu$V]')\n",
    "plt.ylabel('Current [$\\mu$A]')"
   ]
  },
  {
   "cell_type": "code",
   "execution_count": 41,
   "id": "covered-animation",
   "metadata": {},
   "outputs": [
    {
     "data": {
      "text/plain": [
       "Text(0, 0.5, 'Resistance [$\\\\Omega$]')"
      ]
     },
     "execution_count": 41,
     "metadata": {},
     "output_type": "execute_result"
    },
    {
     "data": {
      "image/png": "[encoded data removed]",
      "text/plain": [
       "<Figure size 432x288 with 1 Axes>"
      ]
     },
     "metadata": {
      "needs_background": "light"
     },
     "output_type": "display_data"
    }
   ],
   "source": [
    "plt.plot(Vol[0], Vol[0]/Cur[0], '.')\n",
    "plt.plot(Vol[0]*Cf1[0], Vol[0]*Cf1[0]/Cur[0], '.')\n",
    "plt.xlabel('Voltage [$\\mu$V]')\n",
    "plt.ylabel('Resistance [$\\Omega$]')"
   ]
  },
  {
   "cell_type": "markdown",
   "id": "protective-sixth",
   "metadata": {},
   "source": [
    "Now we'll move onto the next calibration"
   ]
  },
  {
   "cell_type": "code",
   "execution_count": 26,
   "id": "explicit-species",
   "metadata": {},
   "outputs": [
    {
     "name": "stderr",
     "output_type": "stream",
     "text": [
      "<ipython-input-26-842951759207>:1: RuntimeWarning: invalid value encountered in multiply\n",
      "  Vol_tes = Vol * (R_tot-R_res)\n"
     ]
    }
   ],
   "source": [
    "Vol_tes = Vol * (R_tot-R_res)"
   ]
  },
  {
   "cell_type": "code",
   "execution_count": 27,
   "id": "spread-alarm",
   "metadata": {},
   "outputs": [
    {
     "data": {
      "text/plain": [
       "array([[1.04334461],\n",
       "       [1.2928935 ],\n",
       "       [1.08674091],\n",
       "       ...,\n",
       "       [0.62925168],\n",
       "       [0.60960801],\n",
       "       [0.60877794]])"
      ]
     },
     "execution_count": 27,
     "metadata": {},
     "output_type": "execute_result"
    }
   ],
   "source": [
    "R_tot-R_res"
   ]
  },
  {
   "cell_type": "code",
   "execution_count": 83,
   "id": "bottom-uncle",
   "metadata": {},
   "outputs": [
    {
     "data": {
      "text/plain": [
       "(array([571.,   0.,   0.,   0.,   0.,   0.,   2.,   0.,   0.,   0.,   0.,\n",
       "          0.,   1.,   1.,   0.,   1.,   0.,   1.,   0.,   0.,   0.,   2.,\n",
       "          8.,  54., 119., 117., 101., 143., 317., 375., 344., 199., 113.,\n",
       "         67.,  44.,  35.,  32.,  24.,  21.,  13.,  14.,   9.,  18.,  20.,\n",
       "          5.,   9.,  14.,  14.,   7.]),\n",
       " array([0.        , 0.04081633, 0.08163265, 0.12244898, 0.16326531,\n",
       "        0.20408163, 0.24489796, 0.28571429, 0.32653061, 0.36734694,\n",
       "        0.40816327, 0.44897959, 0.48979592, 0.53061224, 0.57142857,\n",
       "        0.6122449 , 0.65306122, 0.69387755, 0.73469388, 0.7755102 ,\n",
       "        0.81632653, 0.85714286, 0.89795918, 0.93877551, 0.97959184,\n",
       "        1.02040816, 1.06122449, 1.10204082, 1.14285714, 1.18367347,\n",
       "        1.2244898 , 1.26530612, 1.30612245, 1.34693878, 1.3877551 ,\n",
       "        1.42857143, 1.46938776, 1.51020408, 1.55102041, 1.59183673,\n",
       "        1.63265306, 1.67346939, 1.71428571, 1.75510204, 1.79591837,\n",
       "        1.83673469, 1.87755102, 1.91836735, 1.95918367, 2.        ]),\n",
       " <BarContainer object of 49 artists>)"
      ]
     },
     "execution_count": 83,
     "metadata": {},
     "output_type": "execute_result"
    },
    {
     "data": {
      "image/png": "[encoded data removed]",
      "text/plain": [
       "<Figure size 432x288 with 1 Axes>"
      ]
     },
     "metadata": {
      "needs_background": "light"
     },
     "output_type": "display_data"
    }
   ],
   "source": [
    "plt.hist(R_n, bins=np.linspace(0, 2))"
   ]
  },
  {
   "cell_type": "code",
   "execution_count": 24,
   "id": "decreased-combination",
   "metadata": {},
   "outputs": [
    {
     "data": {
      "text/plain": [
       "(0.5, 1.8)"
      ]
     },
     "execution_count": 24,
     "metadata": {},
     "output_type": "execute_result"
    },
    {
     "data": {
      "image/png": "[encoded data removed]",
      "text/plain": [
       "<Figure size 432x288 with 1 Axes>"
      ]
     },
     "metadata": {
      "needs_background": "light"
     },
     "output_type": "display_data"
    }
   ],
   "source": [
    "plt.plot(frq/1e6, (R_n-R_res), '.')\n",
    "plt.ylim(0.5, 1.8)"
   ]
  },
  {
   "cell_type": "code",
   "execution_count": null,
   "id": "pharmaceutical-singing",
   "metadata": {},
   "outputs": [],
   "source": []
  }
 ],
 "metadata": {
  "kernelspec": {
   "display_name": "Python 3 (ipykernel)",
   "language": "python",
   "name": "python3"
  },
  "language_info": {
   "codemirror_mode": {
    "name": "ipython",
    "version": 3
   },
   "file_extension": ".py",
   "mimetype": "text/x-python",
   "name": "python",
   "nbconvert_exporter": "python",
   "pygments_lexer": "ipython3",
   "version": "3.9.12"
  }
 },
 "nbformat": 4,
 "nbformat_minor": 5
}
