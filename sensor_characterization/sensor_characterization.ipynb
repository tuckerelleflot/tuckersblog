{
 "cells": [
  {
   "cell_type": "markdown",
   "id": "classified-parish",
   "metadata": {},
   "source": [
    "# Detector characterization\n",
    "\n",
    "- [ 1 - Introduction ](#1)\n",
    "- [ 2 - Packages](#2)\n",
    "- [ 3 - Data set](#3)\n",
    "- [ 4 - Sensor Characterization](#4)\n",
    "  - [ 4.1 Parameter extraction](#4.1)\n",
    "  - [ 4.2 Calibration](#4.2)"
   ]
  },
  {
   "cell_type": "markdown",
   "id": "progressive-century",
   "metadata": {},
   "source": [
    "<a name=\"1\"></a>\n",
    "# 1 - Introduction"
   ]
  },
  {
   "cell_type": "markdown",
   "id": "major-nation",
   "metadata": {},
   "source": [
    "This notebook goes through the analysis process used to characterize and QC superconducting sensors for the POLARBEAR-2 (PB-2) telescopes based on measurements performed in our laboratory at UCSD. We have successfully deployed the first two PB-2 telescopes with a full complement of over 15,000 superconducting sensors.\n",
    "\n",
    "Strict requirements were placed on the thermal and electrical properties and yield of the detectors in order to ensure that PB-2 would achieve it's science goals. The sensors are fabricated on 150 mm silicon wafers with over 1,000 sensors per wafer. In total the PB-2 telescopes required 14 wafers of detectors. In our R&D phase, we fabricated quite a few more than wer\n",
    "\n",
    "The rest of this section is meant to provide some context by describing the PB-2 experiment and it's science goals and then to give some background on the physics of the superconducting sensors used. Neither of these sections are necessary in order to understand what follows in the analysis procedure, so feel free to skip them if you're not interested. On the other hand, if you are interested, please read on! And if you have questions (particularly any students), please don't hesitate to send me an email. It would help me to clarify my writing as well. \n",
    "\n",
    "\n",
    "All that is required is an understanding of Ohm's law and superconductivity (I'll explain that where needed)\n",
    "\n",
    "Explanation of detector and IV curve. Why we're doing this and what we're trying to do. Published in JLTP"
   ]
  },
  {
   "cell_type": "markdown",
   "id": "right-aquatic",
   "metadata": {},
   "source": [
    "<a name=\"2\"></a>\n",
    "# 2 - Packages"
   ]
  },
  {
   "cell_type": "code",
   "execution_count": 2,
   "id": "compliant-basketball",
   "metadata": {},
   "outputs": [],
   "source": [
    "import numpy as np\n",
    "from matplotlib import pyplot as plt\n",
    "%matplotlib inline\n",
    "from sklearn.linear_model import LinearRegression\n",
    "\n",
    "from utils import load_pkl, convert"
   ]
  },
  {
   "cell_type": "markdown",
   "id": "initial-tumor",
   "metadata": {},
   "source": [
    "<a name=\"2\"></a>\n",
    "# 3 - Dataset"
   ]
  },
  {
   "cell_type": "markdown",
   "id": "3b775509",
   "metadata": {},
   "source": [
    "### Load data"
   ]
  },
  {
   "cell_type": "code",
   "execution_count": 3,
   "id": "d14994b6",
   "metadata": {},
   "outputs": [],
   "source": [
    "V = np.loadtxt('Voltages.csv', delimiter=',')\n",
    "I = np.loadtxt('Currents.csv', delimiter=',')\n",
    "freqs = np.loadtxt('Freqs.csv', delimiter=',')\n",
    "det_ids = np.loadtxt('IDs.csv', delimiter=',', dtype='str')"
   ]
  },
  {
   "cell_type": "markdown",
   "id": "2c563f00",
   "metadata": {},
   "source": [
    "### Shape"
   ]
  },
  {
   "cell_type": "code",
   "execution_count": 8,
   "id": "22185a6d",
   "metadata": {},
   "outputs": [
    {
     "name": "stdout",
     "output_type": "stream",
     "text": [
      "V.shape: (2530, 1508)\n",
      "I.shape: (2530, 1508)\n",
      "freqs.shape: (2530,)\n",
      "det_ids.shape: (2530,)\n"
     ]
    }
   ],
   "source": [
    "print('V.shape: ' + str(V.shape))\n",
    "print('I.shape: ' + str(I.shape))\n",
    "print('freqs.shape: ' + str(freqs.shape))\n",
    "print('det_ids.shape: ' + str(det_ids.shape))\n",
    "\n",
    "ndets = V.shape[0]"
   ]
  },
  {
   "cell_type": "markdown",
   "id": "e71245a4",
   "metadata": {},
   "source": [
    "``V`` and ``I`` are arrays of voltage (in volts) and current (in amps). We have data from 2530 detectors and up to 1508 data points for each of them. ``freqs`` is an array of bias frequencies for each detector in Hz. ``det_ids`` is an array of strings that identify each detector"
   ]
  },
  {
   "cell_type": "markdown",
   "id": "saved-lincoln",
   "metadata": {},
   "source": [
    "Let's look at the data from a single detector to get a feel for what we're working with. We'll check for NaNs and look at the data"
   ]
  },
  {
   "cell_type": "markdown",
   "id": "b9f22394",
   "metadata": {},
   "source": [
    "### NaN count"
   ]
  },
  {
   "cell_type": "code",
   "execution_count": 9,
   "id": "8f0455de",
   "metadata": {},
   "outputs": [
    {
     "data": {
      "image/png": "[encoded data removed]",
      "text/plain": [
       "<Figure size 432x288 with 1 Axes>"
      ]
     },
     "metadata": {
      "needs_background": "light"
     },
     "output_type": "display_data"
    }
   ],
   "source": [
    "# Count number of NaNs in each row\n",
    "nan_count = np.isnan(V)\n",
    "nan_count = np.sum(nan_count, axis=1)\n",
    "\n",
    "# plot\n",
    "plt.hist(nan_count)\n",
    "plt.show()"
   ]
  },
  {
   "cell_type": "markdown",
   "id": "1db0e987",
   "metadata": {},
   "source": [
    "### I range"
   ]
  },
  {
   "cell_type": "code",
   "execution_count": 10,
   "id": "d7500ea9",
   "metadata": {},
   "outputs": [
    {
     "data": {
      "image/png": "[encoded data removed]",
      "text/plain": [
       "<Figure size 432x288 with 1 Axes>"
      ]
     },
     "metadata": {
      "needs_background": "light"
     },
     "output_type": "display_data"
    }
   ],
   "source": [
    "# compare max and min currents\n",
    "I_max = np.nanmax(I, axis=1)\n",
    "I_min = np.nanmin(I, axis=1)\n",
    "I_range = I_max-I_min\n",
    "\n",
    "plt.hist(I_range, bins=100)\n",
    "plt.show()"
   ]
  },
  {
   "cell_type": "markdown",
   "id": "58a18c07",
   "metadata": {},
   "source": [
    "# 4- Sensor Characteriztaion"
   ]
  },
  {
   "cell_type": "markdown",
   "id": "6ab1246d",
   "metadata": {},
   "source": [
    "## 4.1 - Parameter Extraction"
   ]
  },
  {
   "cell_type": "markdown",
   "id": "63dd9f5b",
   "metadata": {},
   "source": [
    "First let's find the latching point. We can identify the latching point by find the largest derivative in the data set. Note that Vol[ch] starts high and goes down, so we are looking for a large positive derivative. Also, the spacing along the x-axis is constant, so we can just look at the difference in y-values rather than taking a derivative."
   ]
  },
  {
   "cell_type": "code",
   "execution_count": 12,
   "id": "8bf03763",
   "metadata": {},
   "outputs": [],
   "source": [
    "latch_pt = np.nanargmax(np.diff(I), axis=1)"
   ]
  },
  {
   "cell_type": "markdown",
   "id": "8bb44481",
   "metadata": {},
   "source": [
    "Next let's find the turnaround point and turnaround power"
   ]
  },
  {
   "cell_type": "code",
   "execution_count": 35,
   "id": "c0f164bc",
   "metadata": {},
   "outputs": [],
   "source": [
    "# Create new array I_temp with all points to left of latch_pt set to large values\n",
    "I_temp = np.full(I.shape, 100.)\n",
    "for k in range(ndets):\n",
    "    I_temp[k][:latch_pt[k]] = I[k][:latch_pt[k]]\n",
    "\n",
    "# turnaround is at minimum of I_temp\n",
    "turnaround_pt = np.argmin(I_temp, axis=1)\n",
    "\n",
    "# turnaround power is V*I at turnaround_pt\n",
    "P = I*V\n",
    "P_turn = P[turnaround_pt]"
   ]
  },
  {
   "cell_type": "code",
   "execution_count": 36,
   "id": "6515c258",
   "metadata": {},
   "outputs": [
    {
     "data": {
      "text/plain": [
       "array([[88.03331805, 87.91820072, 87.80917542, ...,         nan,\n",
       "                nan,         nan],\n",
       "       [98.47484107, 98.34412225, 98.21055418, ...,         nan,\n",
       "                nan,         nan],\n",
       "       [65.72040559, 65.63507224, 65.55234606, ...,         nan,\n",
       "                nan,         nan],\n",
       "       ...,\n",
       "       [86.3994049 , 86.26637683, 86.17942765, ...,         nan,\n",
       "                nan,         nan],\n",
       "       [90.59615449, 90.47326989, 90.35610754, ...,         nan,\n",
       "                nan,         nan],\n",
       "       [92.36405928, 92.24332434, 92.13513495, ...,         nan,\n",
       "                nan,         nan]])"
      ]
     },
     "execution_count": 36,
     "metadata": {},
     "output_type": "execute_result"
    }
   ],
   "source": [
    "P_turn"
   ]
  },
  {
   "cell_type": "code",
   "execution_count": 34,
   "id": "250ec16d",
   "metadata": {},
   "outputs": [
    {
     "data": {
      "text/plain": [
       "(2530, 2530)"
      ]
     },
     "execution_count": 34,
     "metadata": {},
     "output_type": "execute_result"
    }
   ],
   "source": [
    "V[:, turnaround_pt].shape"
   ]
  },
  {
   "cell_type": "markdown",
   "id": "62d8f8cb",
   "metadata": {},
   "source": [
    "Next let's find the normal resistance"
   ]
  },
  {
   "cell_type": "code",
   "execution_count": 17,
   "id": "bae0ecaa",
   "metadata": {},
   "outputs": [],
   "source": [
    "# take the first half of the data before the turnaround to be the region where the detector is fully normal\n",
    "normal = (turnaround_pt/2).astype(int)\n",
    "\n",
    "r_n = np.zeros(ndets)\n",
    "for k in range(ndets):\n",
    "    \n",
    "    if normal[k] <= 1:\n",
    "        continue\n",
    "    \n",
    "    x = V[k][:normal[k]]\n",
    "    y = I[k][:normal[k]]\n",
    "    \n",
    "    x = x[~np.isnan(x)].reshape(-1, 1)\n",
    "    y = y[~np.isnan(y)]\n",
    "    \n",
    "    model = LinearRegression()\n",
    "    model.fit(x, y)\n",
    "    \n",
    "    if model.coef_!=0:\n",
    "        r_n[k] = 1 / model.coef_"
   ]
  },
  {
   "cell_type": "markdown",
   "id": "899409f5",
   "metadata": {},
   "source": [
    "## 4.2 - Calibration"
   ]
  },
  {
   "cell_type": "markdown",
   "id": "simple-terrorism",
   "metadata": {},
   "source": [
    "<a name=\"4.1\"></a>\n",
    "## 4.1 - Residual Resistance"
   ]
  },
  {
   "cell_type": "markdown",
   "id": "planned-induction",
   "metadata": {},
   "source": [
    "Those of you who are familiar with superconductivity may have noticed something odd in the RV plot above - the resistance is nonzero even when the detector is superconducting. A superconductor has zero resistance, so the residual resistance must be a result of some other part of our circuit that is not superconducting. There are several candidates: connectors, capacitor loss, cable inductance, etc. Our goal here will be to: 1) define a model for the residual resistance, 2) measure the model parameters, and 3) calibrate our measurement to give more accurate detector parameters."
   ]
  },
  {
   "cell_type": "markdown",
   "id": "normal-baltimore",
   "metadata": {},
   "source": [
    "### Residual resistance model"
   ]
  },
  {
   "cell_type": "markdown",
   "id": "brazilian-ticket",
   "metadata": {},
   "source": [
    "We will use the model shown below. Each detector (R_TES) is in series with a unique residual resistance (R_resid). Ohm's law applied to this circuit yields:  \n",
    "\n",
    "$$V = I (R_{TES}+R_{resid})$$\n",
    "\n",
    "The voltage that we have stored in ``Vol`` is this voltage. We will be interested in determining the resistance of the detector and the electrical power dissipated in the detector and for both of those, we will need to calculate the voltage on the detector, V_TES. V_tes is related to V by the following:\n",
    "\n",
    "$V_{TES} = V \\frac{R_{TES}}{R_{TES}+R_{res}} = V (1-\\frac{R_{res}}{R_{tot}})$\n",
    "\n",
    "where $R_{tot} = R_{TES}+R_{resid}$ is the total resistance in the model"
   ]
  },
  {
   "cell_type": "markdown",
   "id": "cooperative-experiment",
   "metadata": {},
   "source": [
    "Our next task, then, is it determine the coefficient of V in that equation, which I'll call CF1. To do that, we'll need to calculate the R_resid for each detector."
   ]
  },
  {
   "cell_type": "markdown",
   "id": "fantastic-court",
   "metadata": {},
   "source": [
    "### Measuring residual resistance"
   ]
  },
  {
   "cell_type": "markdown",
   "id": "earlier-senior",
   "metadata": {},
   "source": [
    "In region 3 of the IV curve, the detector is fully superconducting and Ohm's law reduces to\n",
    "\n",
    "$V = IR_{resid}$\n",
    "\n",
    "We will use linear regression to determine R_resid given our data."
   ]
  },
  {
   "cell_type": "markdown",
   "id": "peaceful-sleeve",
   "metadata": {},
   "source": [
    "Below we can see that this has identified the latching point"
   ]
  },
  {
   "cell_type": "code",
   "execution_count": 13,
   "id": "simplified-frost",
   "metadata": {},
   "outputs": [
    {
     "data": {
      "text/plain": [
       "Text(0, 0.5, 'Current [$\\\\mu$A]')"
      ]
     },
     "execution_count": 13,
     "metadata": {},
     "output_type": "execute_result"
    },
    {
     "data": {
      "image/png": "[encoded data removed]",
      "text/plain": [
       "<Figure size 432x288 with 1 Axes>"
      ]
     },
     "metadata": {
      "needs_background": "light"
     },
     "output_type": "display_data"
    }
   ],
   "source": [
    "ch = 0\n",
    "plt.plot(V[ch], I[ch], '.')\n",
    "plt.plot(V[ch][latch_pt[ch]], I[ch][latch_pt[ch]], 'ro')\n",
    "plt.xlabel('Voltage [$\\mu$V]')\n",
    "plt.ylabel('Current [$\\mu$A]')"
   ]
  },
  {
   "cell_type": "code",
   "execution_count": 27,
   "id": "seven-bulgaria",
   "metadata": {
    "scrolled": true
   },
   "outputs": [],
   "source": [
    "# Get residual resistance\n",
    "\n",
    "r_resid = np.repeat(np.nan, ndets)\n",
    "\n",
    "for k in range(ndets):\n",
    "    \n",
    "    if latch_pt[k] == 0:\n",
    "        continue\n",
    "    \n",
    "    x = V[k][latch_pt[k]+1:]\n",
    "    y = I[k][latch_pt[k]+1:]\n",
    "    \n",
    "    x = x[~np.isnan(x)].reshape(-1, 1)\n",
    "    y = y[~np.isnan(y)]\n",
    "    \n",
    "    model = LinearRegression()\n",
    "    model.fit(x, y)\n",
    "    \n",
    "    if model.coef_!=0:\n",
    "        r_resid[k] = 1 / model.coef_"
   ]
  },
  {
   "cell_type": "markdown",
   "id": "beginning-hobby",
   "metadata": {},
   "source": [
    "Plots below: we can see that the mean is about 0.3 with a fairly tight distribution. Plotting Rres vs frequency is also illuminating. We can see that there is a pretty tight distribution at a given frequency and the mean is rising with frequency. This is not suprising as dielectric loss and cable inductance tend to increase with frequency."
   ]
  },
  {
   "cell_type": "code",
   "execution_count": 31,
   "id": "armed-handy",
   "metadata": {},
   "outputs": [
    {
     "data": {
      "text/plain": [
       "(array([  2.,  21., 536., 822., 438., 114.,  56.,  27.,  28.,  19.,  14.,\n",
       "         13., 107.,  55.,  29.,  35.,  12.,   5.,   3.]),\n",
       " array([0.        , 0.07894737, 0.15789474, 0.23684211, 0.31578947,\n",
       "        0.39473684, 0.47368421, 0.55263158, 0.63157895, 0.71052632,\n",
       "        0.78947368, 0.86842105, 0.94736842, 1.02631579, 1.10526316,\n",
       "        1.18421053, 1.26315789, 1.34210526, 1.42105263, 1.5       ]),\n",
       " <BarContainer object of 19 artists>)"
      ]
     },
     "execution_count": 31,
     "metadata": {},
     "output_type": "execute_result"
    },
    {
     "data": {
      "image/png": "[encoded data removed]",
      "text/plain": [
       "<Figure size 432x288 with 1 Axes>"
      ]
     },
     "metadata": {
      "needs_background": "light"
     },
     "output_type": "display_data"
    }
   ],
   "source": [
    "plt.hist(r_resid, bins=np.linspace(0, 1.5, 20));"
   ]
  },
  {
   "cell_type": "code",
   "execution_count": 36,
   "id": "consecutive-chambers",
   "metadata": {},
   "outputs": [
    {
     "data": {
      "text/plain": [
       "(0.0, 1.5)"
      ]
     },
     "execution_count": 36,
     "metadata": {},
     "output_type": "execute_result"
    },
    {
     "data": {
      "image/png": "[encoded data removed]",
      "text/plain": [
       "<Figure size 432x288 with 1 Axes>"
      ]
     },
     "metadata": {
      "needs_background": "light"
     },
     "output_type": "display_data"
    }
   ],
   "source": [
    "plt.plot(freqs, r_resid, '.')\n",
    "plt.ylim(0, 1.5);"
   ]
  },
  {
   "cell_type": "markdown",
   "id": "handled-optimization",
   "metadata": {},
   "source": [
    "### Calibrate measurement"
   ]
  },
  {
   "cell_type": "markdown",
   "id": "polyphonic-david",
   "metadata": {},
   "source": [
    "First let's calculate our calibration factor Cf1"
   ]
  },
  {
   "cell_type": "code",
   "execution_count": 89,
   "id": "integral-kruger",
   "metadata": {},
   "outputs": [
    {
     "name": "stderr",
     "output_type": "stream",
     "text": [
      "<ipython-input-89-de61b71771a0>:1: RuntimeWarning: invalid value encountered in true_divide\n",
      "  Rtot = Vol/Cur\n"
     ]
    }
   ],
   "source": [
    "Rtot = Vol/Cur\n",
    "Cf1 = 1 - R_res/Rtot"
   ]
  },
  {
   "cell_type": "markdown",
   "id": "chief-brisbane",
   "metadata": {},
   "source": [
    "There are a few ways to visualize the effect of Cf1. The most intuitive is probably looking at I-V and R-V curves"
   ]
  },
  {
   "cell_type": "code",
   "execution_count": 99,
   "id": "human-steam",
   "metadata": {},
   "outputs": [
    {
     "data": {
      "text/plain": [
       "[<matplotlib.lines.Line2D at 0x7f145326cd00>]"
      ]
     },
     "execution_count": 99,
     "metadata": {},
     "output_type": "execute_result"
    },
    {
     "data": {
      "image/png": "[encoded data removed]",
      "text/plain": [
       "<Figure size 576x576 with 2 Axes>"
      ]
     },
     "metadata": {
      "needs_background": "light"
     },
     "output_type": "display_data"
    }
   ],
   "source": [
    "ch = 0\n",
    "fig, axs = plt.subplots(2, 1, figsize=(8, 8))\n",
    "\n",
    "ax = axs[0]\n",
    "ax.plot(Vol[ch], Cur[ch], '.')\n",
    "ax.plot(Vol[ch]*Cf1[ch], Cur[ch], '.')\n",
    "\n",
    "ax = axs[1]\n",
    "ax.plot(Vol[ch], Rtot[ch], '.')\n",
    "ax.plot(Vol[ch]*Cf1[ch], Rtot[ch]*Cf1[ch], '.')"
   ]
  },
  {
   "cell_type": "code",
   "execution_count": 87,
   "id": "exotic-struggle",
   "metadata": {},
   "outputs": [
    {
     "data": {
      "image/png": "[encoded data removed]",
      "text/plain": [
       "<Figure size 432x288 with 1 Axes>"
      ]
     },
     "metadata": {
      "needs_background": "light"
     },
     "output_type": "display_data"
    }
   ],
   "source": [
    "plt.plot(Vol[0], Vol[0]*Cf1[0], '.')\n",
    "plt.grid()"
   ]
  },
  {
   "cell_type": "markdown",
   "id": "a078428c",
   "metadata": {},
   "source": [
    "## 4.2 - Bias Inductance"
   ]
  },
  {
   "cell_type": "markdown",
   "id": "2ce6b19c",
   "metadata": {},
   "source": [
    "After removing the residual resistance from our measurement, we find that there is a pretty significant frequency dependence in the normal resistance (put plot of that below). This can be attributed to a parasitic inductance in the part of the circuit that is generating the voltage. The inductance turns out to be of order 1 nH, which is easily explainable by the length of the traces on the PCB and/or stray inductance in the bias resistor SMD. We'll first define the model, then measure it, then apply it."
   ]
  },
  {
   "cell_type": "markdown",
   "id": "c08ae442",
   "metadata": {},
   "source": [
    "### Model\n",
    "\n",
    "The actual voltage applied is given by\n",
    "\n",
    "$$V_{actual} = I_{in} Z_{bias}$$\n",
    "\n",
    "where $$Z_{bias}= R_{bias} + i \\omega_{bias} L_{bias}$$\n",
    "\n",
    "Before we even got the data for V, an assumption had already been made that $L_{bias}=0$. Assuming we have some value of $L_{bias}$ in mind, we can fix this with the following:\n",
    "\n",
    "``V[ch] = V[ch] * np.absolute(Z_bias[k])/R_bias[k]``\n",
    "\n",
    "We take an asbolute value because Z_bias is complex and we only are interested in the amplitude of V. Since $|Z_{bias}| \\geq R_{bias}$, this results in an incrase to V. And since $|Z_{bias}|$ increases with frequency, V also increases with frequency."
   ]
  },
  {
   "cell_type": "markdown",
   "id": "cc0597df",
   "metadata": {},
   "source": [
    "### Measuring Lbias"
   ]
  },
  {
   "cell_type": "markdown",
   "id": "b2cf3d05",
   "metadata": {},
   "source": [
    "First we'll assume the Rn is uniform across the wafer with some random variation. We will then assume that any frequency dependence is attributable to our readout circuit and then use that to find a value of Lbias. We should ask ourselves: is there any other way to get frequency dependence? Does frequency correlate with something else, like position on the wafer?"
   ]
  },
  {
   "cell_type": "code",
   "execution_count": 39,
   "id": "27543eba",
   "metadata": {},
   "outputs": [],
   "source": [
    "#Find turnaround\n",
    "#temporarily set all points to the left of latching point to large values\n",
    "I_temp = np.full(I.shape, 100.)\n",
    "\n",
    "for k in range(ndets):\n",
    "    I_temp[k][:latch_pt[k]] = I[k][:latch_pt[k]]\n",
    "\n",
    "turnaround_pt = np.argmin(I_temp, axis=1)"
   ]
  },
  {
   "cell_type": "code",
   "execution_count": 42,
   "id": "0dbb0412",
   "metadata": {},
   "outputs": [],
   "source": [
    "# fit normal resistance\n",
    "# take the first half of the data before the turnaround to be the region where the detector is fully normal\n",
    "normal = (turnaround_pt/2).astype(int)\n",
    "\n",
    "r_tot = np.zeros(ndets)\n",
    "\n",
    "for k in range(ndets):\n",
    "    \n",
    "    if normal[k] <= 1:\n",
    "        continue\n",
    "    \n",
    "    x = V[k][:normal[k]]\n",
    "    y = I[k][:normal[k]]\n",
    "    \n",
    "    x = x[~np.isnan(x)].reshape(-1, 1)\n",
    "    y = y[~np.isnan(y)]\n",
    "    \n",
    "    model = LinearRegression()\n",
    "    model.fit(x, y)\n",
    "    \n",
    "    if model.coef_!=0:\n",
    "        r_tot[k] = 1 / model.coef_"
   ]
  },
  {
   "cell_type": "code",
   "execution_count": 45,
   "id": "29b84696",
   "metadata": {},
   "outputs": [
    {
     "data": {
      "text/plain": [
       "(0.0, 2.0)"
      ]
     },
     "execution_count": 45,
     "metadata": {},
     "output_type": "execute_result"
    },
    {
     "data": {
      "image/png": "[encoded data removed]",
      "text/plain": [
       "<Figure size 432x288 with 1 Axes>"
      ]
     },
     "metadata": {
      "needs_background": "light"
     },
     "output_type": "display_data"
    }
   ],
   "source": [
    "# make plot of Rn vs bias frequency\n",
    "\n",
    "plt.plot(freqs, r_tot-r_resid, '.')\n",
    "plt.ylim(0, 2)"
   ]
  },
  {
   "cell_type": "markdown",
   "id": "3cdb95b1",
   "metadata": {},
   "source": [
    "The detectors IDs are strings of numbers. They are important now. Detectors who share the first three sets of numbers also share a common bias resistor. Let's plot one set of those detectors"
   ]
  },
  {
   "cell_type": "code",
   "execution_count": 48,
   "id": "b50b345a",
   "metadata": {},
   "outputs": [],
   "source": [
    "combs = []\n",
    "for k in range(len(det_ids)):\n",
    "    if det_ids[k][:8] not in combs:\n",
    "        combs.append(det_ids[k][:8])\n"
   ]
  },
  {
   "cell_type": "markdown",
   "id": "da38ce43",
   "metadata": {},
   "source": [
    "# Older stuff"
   ]
  },
  {
   "cell_type": "markdown",
   "id": "private-enzyme",
   "metadata": {},
   "source": []
  },
  {
   "cell_type": "markdown",
   "id": "ongoing-avenue",
   "metadata": {},
   "source": [
    "Next we're going to apply to calibrations to the data set. I'll motivate them each and then apply the calibration."
   ]
  },
  {
   "cell_type": "markdown",
   "id": "excess-western",
   "metadata": {},
   "source": [
    "First we need to deal with the residual resistance. We will model this as a unique resistance in series with each detector. The values in Vol are voltages applied accross the series combination of a detector and a residual resistance. \n",
    "\n",
    "The TES resistance is given by: \n",
    "\n",
    "$R_{TES} = R_{tot}-R_{res}$\n",
    "\n",
    "The voltage across the TES is related to Vol by the following:\n",
    "\n",
    "$V_{TES} = V \\frac{R_{TES}}{R_{TES}+R_{res}} = V (1-\\frac{R_{res}}{R_{tot}})$\n",
    "\n",
    "We'll define the coefficient in this equation as calibration factor 1 (cf1)\n",
    "\n",
    "For our next calculations, we will want to estimate the voltage across just the detector. Since we have fit for the residual resistance and we can get the total resistance by dividing Vol by Cur, we can do this math. Note that the current through the detector does not need to be calibrated because it is the same current flowing through both elements"
   ]
  },
  {
   "cell_type": "code",
   "execution_count": 33,
   "id": "natural-standing",
   "metadata": {},
   "outputs": [
    {
     "name": "stderr",
     "output_type": "stream",
     "text": [
      "<ipython-input-33-a54db45ad4a1>:1: RuntimeWarning: invalid value encountered in true_divide\n",
      "  R_tot = Vol/Cur\n"
     ]
    }
   ],
   "source": [
    "R_tot = Vol/Cur\n",
    "Cf1 = 1 - R_res / R_tot"
   ]
  },
  {
   "cell_type": "markdown",
   "id": "listed-florence",
   "metadata": {},
   "source": [
    "Let's take a look at some data with this calibration applied:"
   ]
  },
  {
   "cell_type": "code",
   "execution_count": 38,
   "id": "desperate-charlotte",
   "metadata": {},
   "outputs": [
    {
     "data": {
      "image/png": "[encoded data removed]",
      "text/plain": [
       "<Figure size 432x288 with 1 Axes>"
      ]
     },
     "metadata": {
      "needs_background": "light"
     },
     "output_type": "display_data"
    }
   ],
   "source": [
    "plt.plot(Vol[0], Cur[0], '.')\n",
    "plt.plot(Vol[0]*Cf1[0], Cur[0], '.')\n",
    "plt.xlabel('Voltage [$\\mu$V]')\n",
    "plt.ylabel('Current [$\\mu$A]')"
   ]
  },
  {
   "cell_type": "code",
   "execution_count": 41,
   "id": "covered-animation",
   "metadata": {},
   "outputs": [
    {
     "data": {
      "text/plain": [
       "Text(0, 0.5, 'Resistance [$\\\\Omega$]')"
      ]
     },
     "execution_count": 41,
     "metadata": {},
     "output_type": "execute_result"
    },
    {
     "data": {
      "image/png": "[encoded data removed]",
      "text/plain": [
       "<Figure size 432x288 with 1 Axes>"
      ]
     },
     "metadata": {
      "needs_background": "light"
     },
     "output_type": "display_data"
    }
   ],
   "source": [
    "plt.plot(Vol[0], Vol[0]/Cur[0], '.')\n",
    "plt.plot(Vol[0]*Cf1[0], Vol[0]*Cf1[0]/Cur[0], '.')\n",
    "plt.xlabel('Voltage [$\\mu$V]')\n",
    "plt.ylabel('Resistance [$\\Omega$]')"
   ]
  },
  {
   "cell_type": "markdown",
   "id": "protective-sixth",
   "metadata": {},
   "source": [
    "Now we'll move onto the next calibration"
   ]
  },
  {
   "cell_type": "code",
   "execution_count": 26,
   "id": "explicit-species",
   "metadata": {},
   "outputs": [
    {
     "name": "stderr",
     "output_type": "stream",
     "text": [
      "<ipython-input-26-842951759207>:1: RuntimeWarning: invalid value encountered in multiply\n",
      "  Vol_tes = Vol * (R_tot-R_res)\n"
     ]
    }
   ],
   "source": [
    "Vol_tes = Vol * (R_tot-R_res)"
   ]
  },
  {
   "cell_type": "code",
   "execution_count": 27,
   "id": "spread-alarm",
   "metadata": {},
   "outputs": [
    {
     "data": {
      "text/plain": [
       "array([[1.04334461],\n",
       "       [1.2928935 ],\n",
       "       [1.08674091],\n",
       "       ...,\n",
       "       [0.62925168],\n",
       "       [0.60960801],\n",
       "       [0.60877794]])"
      ]
     },
     "execution_count": 27,
     "metadata": {},
     "output_type": "execute_result"
    }
   ],
   "source": [
    "R_tot-R_res"
   ]
  },
  {
   "cell_type": "code",
   "execution_count": 83,
   "id": "bottom-uncle",
   "metadata": {},
   "outputs": [
    {
     "data": {
      "text/plain": [
       "(array([571.,   0.,   0.,   0.,   0.,   0.,   2.,   0.,   0.,   0.,   0.,\n",
       "          0.,   1.,   1.,   0.,   1.,   0.,   1.,   0.,   0.,   0.,   2.,\n",
       "          8.,  54., 119., 117., 101., 143., 317., 375., 344., 199., 113.,\n",
       "         67.,  44.,  35.,  32.,  24.,  21.,  13.,  14.,   9.,  18.,  20.,\n",
       "          5.,   9.,  14.,  14.,   7.]),\n",
       " array([0.        , 0.04081633, 0.08163265, 0.12244898, 0.16326531,\n",
       "        0.20408163, 0.24489796, 0.28571429, 0.32653061, 0.36734694,\n",
       "        0.40816327, 0.44897959, 0.48979592, 0.53061224, 0.57142857,\n",
       "        0.6122449 , 0.65306122, 0.69387755, 0.73469388, 0.7755102 ,\n",
       "        0.81632653, 0.85714286, 0.89795918, 0.93877551, 0.97959184,\n",
       "        1.02040816, 1.06122449, 1.10204082, 1.14285714, 1.18367347,\n",
       "        1.2244898 , 1.26530612, 1.30612245, 1.34693878, 1.3877551 ,\n",
       "        1.42857143, 1.46938776, 1.51020408, 1.55102041, 1.59183673,\n",
       "        1.63265306, 1.67346939, 1.71428571, 1.75510204, 1.79591837,\n",
       "        1.83673469, 1.87755102, 1.91836735, 1.95918367, 2.        ]),\n",
       " <BarContainer object of 49 artists>)"
      ]
     },
     "execution_count": 83,
     "metadata": {},
     "output_type": "execute_result"
    },
    {
     "data": {
      "image/png": "[encoded data removed]",
      "text/plain": [
       "<Figure size 432x288 with 1 Axes>"
      ]
     },
     "metadata": {
      "needs_background": "light"
     },
     "output_type": "display_data"
    }
   ],
   "source": [
    "plt.hist(R_n, bins=np.linspace(0, 2))"
   ]
  },
  {
   "cell_type": "code",
   "execution_count": 24,
   "id": "decreased-combination",
   "metadata": {},
   "outputs": [
    {
     "data": {
      "text/plain": [
       "(0.5, 1.8)"
      ]
     },
     "execution_count": 24,
     "metadata": {},
     "output_type": "execute_result"
    },
    {
     "data": {
      "image/png": "[encoded data removed]",
      "text/plain": [
       "<Figure size 432x288 with 1 Axes>"
      ]
     },
     "metadata": {
      "needs_background": "light"
     },
     "output_type": "display_data"
    }
   ],
   "source": [
    "plt.plot(frq/1e6, (R_n-R_res), '.')\n",
    "plt.ylim(0.5, 1.8)"
   ]
  },
  {
   "cell_type": "code",
   "execution_count": null,
   "id": "pharmaceutical-singing",
   "metadata": {},
   "outputs": [],
   "source": []
  }
 ],
 "metadata": {
  "kernelspec": {
   "display_name": "Python 3 (ipykernel)",
   "language": "python",
   "name": "python3"
  },
  "language_info": {
   "codemirror_mode": {
    "name": "ipython",
    "version": 3
   },
   "file_extension": ".py",
   "mimetype": "text/x-python",
   "name": "python",
   "nbconvert_exporter": "python",
   "pygments_lexer": "ipython3",
   "version": "3.9.12"
  }
 },
 "nbformat": 4,
 "nbformat_minor": 5
}
