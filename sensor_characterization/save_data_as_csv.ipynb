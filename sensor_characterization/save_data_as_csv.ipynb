{
 "cells": [
  {
   "cell_type": "markdown",
   "id": "6ad2431a",
   "metadata": {},
   "source": [
    "This is a short term notebook that I'm going to use just to convert the pickled data into a CSV\n",
    "\n",
    "I'll keep this until this main notebook is finalized in case I need to modify the way these data are stored. After that I'll delete it."
   ]
  },
  {
   "cell_type": "code",
   "execution_count": 1,
   "id": "b7e3d7cb",
   "metadata": {},
   "outputs": [],
   "source": [
    "import numpy as np\n",
    "\n",
    "from utils import load_pkl, convert"
   ]
  },
  {
   "cell_type": "code",
   "execution_count": 4,
   "id": "84a28e33",
   "metadata": {},
   "outputs": [],
   "source": [
    "db_dir = '20190225_221113_drop_bolos/data/'\n",
    "fnames = ! ls $db_dir | grep OUTPUT\n",
    "fnames = sorted(fnames)"
   ]
  },
  {
   "cell_type": "code",
   "execution_count": 5,
   "id": "042c0c2f",
   "metadata": {},
   "outputs": [],
   "source": [
    "i = []\n",
    "v = []\n",
    "freq = []\n",
    "det_id = []\n",
    "for j, fname in enumerate(fnames):\n",
    "\n",
    "    data = load_pkl(db_dir + fname)\n",
    "    pstring = data['pstring']\n",
    "    \n",
    "    for ch in data['RIV_log']:\n",
    "        \n",
    "        det_id.append(pstring+f'/{ch}')       \n",
    "        v.append(np.array(data['RIV_log'][ch]['V']))\n",
    "        i.append(np.array(data['RIV_log'][ch]['I']))       \n",
    "        freq.append(data['pre_drop'][ch]['freq'])"
   ]
  },
  {
   "cell_type": "code",
   "execution_count": 6,
   "id": "ed2d1c72",
   "metadata": {},
   "outputs": [],
   "source": [
    "# find longest list within v\n",
    "def find_max_list(list):\n",
    "    list_len = [len(j) for j in list]\n",
    "    return max(list_len)\n",
    "\n",
    "max_list = find_max_list(v)"
   ]
  },
  {
   "cell_type": "code",
   "execution_count": 7,
   "id": "e63ca0cf",
   "metadata": {},
   "outputs": [],
   "source": [
    "# put these irregular lists into np arrays\n",
    "\n",
    "I = np.full((len(i), max_list), np.nan)\n",
    "V = np.full((len(i), max_list), np.nan)"
   ]
  },
  {
   "cell_type": "code",
   "execution_count": 11,
   "id": "49599e9c",
   "metadata": {},
   "outputs": [],
   "source": [
    "for k in range(len(v)):\n",
    "    \n",
    "    I[k,:len(i[k])] = i[k]\n",
    "    V[k,:len(v[k])] = v[k]"
   ]
  },
  {
   "cell_type": "code",
   "execution_count": 19,
   "id": "31b2e1b4",
   "metadata": {},
   "outputs": [],
   "source": [
    "np.savetxt('Voltages.csv', V, delimiter=',')\n",
    "np.savetxt('Currents.csv', V, delimiter=',')\n",
    "np.savetxt('IDs.csv', det_id, delimiter=',', fmt='%s')\n",
    "np.savetxt('Freqs.csv', freq, delimiter=',')"
   ]
  }
 ],
 "metadata": {
  "kernelspec": {
   "display_name": "Python 3 (ipykernel)",
   "language": "python",
   "name": "python3"
  },
  "language_info": {
   "codemirror_mode": {
    "name": "ipython",
    "version": 3
   },
   "file_extension": ".py",
   "mimetype": "text/x-python",
   "name": "python",
   "nbconvert_exporter": "python",
   "pygments_lexer": "ipython3",
   "version": "3.9.12"
  }
 },
 "nbformat": 4,
 "nbformat_minor": 5
}
